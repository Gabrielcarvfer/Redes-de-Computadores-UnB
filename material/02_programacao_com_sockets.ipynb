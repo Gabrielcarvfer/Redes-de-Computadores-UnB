{
 "cells": [
  {
   "cell_type": "markdown",
   "source": [
    "# Programação com sockets a.k.a. como programar aplicações que usam a rede\n",
    "\n",
    "Já vimos que existem diversas camadas na pilha de rede TCP/IP.\n",
    "\n",
    "### Pilha TCP/IP (http://www.tcpipguide.com/free/t_IPDatagramEncapsulation.htm)\n",
    "![](02_programacao_com_sockets/ip_datagram_encapsulation.png)\n",
    "\n",
    "Existem, porém, outras famílias de pilhas de rede além da TCP/IP.\n",
    "O Linux, por exemplo, [suporta as seguintes famílias](https://github.com/torvalds/linux/blob/master/net/socket.c#L170-L217):\n",
    "- PF_UNIX: comunicação entre processos da mesma máquina\n",
    "- PF_INET: redes TCP/IP com IPv4\n",
    "- PF_INET6: redes TCP/IP com IPv6\n",
    "- PF_BLUETOOTH: redes sem fio Bluetooth\n",
    "- PF_CAN: redes automotivas e industriais\n",
    "- PF_PACKET: redes com pacotes RAW (sem nenhum processamento de cabeçalhos). Utilizado para desenvolvimento de protocolos de mais baixo nível e monitoramento.\n",
    "\n",
    "Os sockets são um conjunto de APIs criados pelo projeto [BSD](https://docs.freebsd.org/en/books/developers-handbook/sockets/).\n",
    "\n",
    "Seu objetivo é expor uma interface de programação homogênea para os usuários que se utilizavam das diferentes pilhas, independente do sistema operacional executado.\n",
    "\n",
    "O diagrama abaixo mostra onde exatamente os sockets são posicionados na pilha de rede.\n",
    "\n",
    "[![](https://mermaid.ink/img/pako:eNqVk99KwzAUxl8l5HqTpupN0cGcwoauFrsh0nqRLUcXtiYhSf3D2MN45YP4Yp7aKZ2bqC2E9jtf8p3-ylnSqRZAI3pvuZmR0UmuCF6unNRCjNWAZLH2MNF6fluXNyzjFA1nzvC3V00EkLEr316s1A1vN0mCrLeQoDxExIF9ADswxyzYY3iHrbWUaOuPWbh_0NgKSuzIPK8yU-k8FJxcGrB8KrXiC3IhVfnU2D666sYpho-FiUiIZzdqA9QHSUTWbbBGadjtBRkuDSnp3wQZLj_1Vn3jUbud6ukcfLvdWSfXhg_nDrSMZKfg5l6b3WTZH8iyLEV6UmgbkUWFRP2HI9vN8VoqoR_dFklWkzSYQL4lDLDYwBlu4mTbONkvONk2TvaFs3bVr71-N47PLrJDMpwY1yIhKT47r_4aHtNZWzb8lV61QVu0AFtwKXAOlpUlp34GBeQ0wkfB7TynuVqhj5dep89qSiNvS2jR0gju4VRyxFnQ6I4vHKogpNd2WA_Wx3yt3gFM9fwv?type=png)](https://mermaid.live/edit#pako:eNqVk99KwzAUxl8l5HqTpupN0cGcwoauFrsh0nqRLUcXtiYhSf3D2MN45YP4Yp7aKZ2bqC2E9jtf8p3-ylnSqRZAI3pvuZmR0UmuCF6unNRCjNWAZLH2MNF6fluXNyzjFA1nzvC3V00EkLEr316s1A1vN0mCrLeQoDxExIF9ADswxyzYY3iHrbWUaOuPWbh_0NgKSuzIPK8yU-k8FJxcGrB8KrXiC3IhVfnU2D666sYpho-FiUiIZzdqA9QHSUTWbbBGadjtBRkuDSnp3wQZLj_1Vn3jUbud6ukcfLvdWSfXhg_nDrSMZKfg5l6b3WTZH8iyLEV6UmgbkUWFRP2HI9vN8VoqoR_dFklWkzSYQL4lDLDYwBlu4mTbONkvONk2TvaFs3bVr71-N47PLrJDMpwY1yIhKT47r_4aHtNZWzb8lV61QVu0AFtwKXAOlpUlp34GBeQ0wkfB7TynuVqhj5dep89qSiNvS2jR0gju4VRyxFnQ6I4vHKogpNd2WA_Wx3yt3gFM9fwv)\n",
    "\n",
    "Os sockets foram tão bem recebidos que passaram a fazer parte de padrão POSIX. Foram integrados aos mais diversos sistemas operacionais.\n",
    "\n",
    "Mas como são programados?\n",
    "\n",
    "### Programando um cliente TCP\n",
    "\n",
    "Primeiro precisamos importar a biblioteca de sockets"
   ],
   "metadata": {
    "collapsed": false
   }
  },
  {
   "cell_type": "code",
   "execution_count": 62,
   "metadata": {
    "collapsed": true
   },
   "outputs": [],
   "source": [
    "import socket"
   ]
  },
  {
   "cell_type": "markdown",
   "source": [
    "Depois precisamos criar um socket"
   ],
   "metadata": {
    "collapsed": false
   }
  },
  {
   "cell_type": "code",
   "execution_count": 63,
   "outputs": [
    {
     "name": "stdout",
     "output_type": "stream",
     "text": [
      "<socket.socket fd=1616, family=AddressFamily.AF_INET, type=SocketKind.SOCK_STREAM, proto=0>\n"
     ]
    }
   ],
   "source": [
    "# requisita API do SO uma conexão AF_INET (IPV4)\n",
    "#   com protocolo de transporte SOCK_STREAM (TCP)\n",
    "socketCliente = socket.socket(socket.AF_INET, socket.SOCK_STREAM)\n",
    "print(socketCliente)"
   ],
   "metadata": {
    "collapsed": false
   }
  },
  {
   "cell_type": "markdown",
   "source": [
    "Com o socket criado, podemos nos conectar a um servidor.\n",
    "\n",
    "Mas para nos conectarmos ao servidor, precisamos descobrir seu endereço IP."
   ],
   "metadata": {
    "collapsed": false
   }
  },
  {
   "cell_type": "code",
   "execution_count": 64,
   "outputs": [
    {
     "name": "stdout",
     "output_type": "stream",
     "text": [
      "('gnu.org', [], ['209.51.188.116'])\n"
     ]
    }
   ],
   "source": [
    "ip_servidor = socket.gethostbyname_ex(\"gnu.org\")\n",
    "print(ip_servidor)"
   ],
   "metadata": {
    "collapsed": false
   }
  },
  {
   "cell_type": "markdown",
   "source": [
    "Com o endereço do servidor e sabendo a porta correspondente ao tipo de aplicação que queremos nos conectar,\n",
    "tentamos nos conectar."
   ],
   "metadata": {
    "collapsed": false
   }
  },
  {
   "cell_type": "code",
   "execution_count": 65,
   "outputs": [
    {
     "name": "stdout",
     "output_type": "stream",
     "text": [
      "<socket.socket fd=1616, family=AddressFamily.AF_INET, type=SocketKind.SOCK_STREAM, proto=0, laddr=('192.168.0.114', 54376), raddr=('209.51.188.116', 80)>\n"
     ]
    }
   ],
   "source": [
    "socketCliente.connect((ip_servidor[2][0], 80)) # porta 80 = HTTP\n",
    "print(socketCliente)"
   ],
   "metadata": {
    "collapsed": false
   }
  },
  {
   "cell_type": "markdown",
   "source": [
    "Se conseguirmos nos conectar, podemos então enviar mensagens para o servidor conectado."
   ],
   "metadata": {
    "collapsed": false
   }
  },
  {
   "cell_type": "code",
   "execution_count": 66,
   "outputs": [
    {
     "name": "stdout",
     "output_type": "stream",
     "text": [
      "398\n"
     ]
    }
   ],
   "source": [
    "requisicao_http = \\\n",
    "\"\"\"GET / HTTP/1.1\n",
    "Host: gnu.org\n",
    "Connection: keep-alive\n",
    "User-Agent: Mozilla/5.0 (Windows NT 10.0; Win64; x64) AppleWebKit/537.36 (KHTML, like Gecko) Chrome/79.0.3945.88 Safari/537.36\n",
    "Upgrade-Insecure-Requests: 1\n",
    "Accept: text/html,application/xhtml+xml,application/xml;q=0.9,image/webp,image/apng,*/*;q=0.8,application/signed-exchange;v=b3;q=0.9\n",
    "Accept-Language: en-US,en;q=0.9\n",
    "Accept-Encoding: identity\"\"\"\n",
    "res = socketCliente.send(bytes(requisicao_http, \"utf-8\"))\n",
    "print(res)"
   ],
   "metadata": {
    "collapsed": false
   }
  },
  {
   "cell_type": "markdown",
   "source": [
    "Após o envio da nossa requisição HTTP, precisamos aguardar a resposta"
   ],
   "metadata": {
    "collapsed": false
   }
  },
  {
   "cell_type": "code",
   "execution_count": 67,
   "outputs": [
    {
     "name": "stdout",
     "output_type": "stream",
     "text": [
      "b'HTTP/1.1 400 Bad Request\\r\\nDate: Mon, 05 Dec 2022 00:43:11 GMT\\r\\nServer: Apache/2.4.29\\r\\nStrict-Transport-Security: max-age=63072000; includeSubDomains; preload\\r\\nX-Frame-Options: sameorigin\\r\\nX-Content-Type-Options: nosniff\\r\\nContent-Length: 293\\r\\nConnection: close\\r\\nContent-Type: text/html; charset=iso-8859-1\\r\\n\\r\\n<!DOCTYPE HTML PUBLIC \"-//IETF//DTD HTML 2.0//EN\">\\n<html><head>\\n<title>400 Bad Request</title>\\n</head><body>\\n<h1>Bad Request</h1>\\n<p>Your browser sent a request that this server could not understand.<br />\\n</p>\\n<hr>\\n<address>Apache/2.4.29 Server at nongnu.org Port 80</address>\\n</body></html>\\n'\n"
     ]
    }
   ],
   "source": [
    "resposta_http = socketCliente.recv(10000)\n",
    "print(resposta_http)"
   ],
   "metadata": {
    "collapsed": false
   }
  },
  {
   "cell_type": "markdown",
   "source": [
    "Agora que já enviamos uma requisição e recebemos a resposta, podemos fechar a conexão."
   ],
   "metadata": {
    "collapsed": false
   }
  },
  {
   "cell_type": "code",
   "execution_count": 68,
   "outputs": [
    {
     "name": "stdout",
     "output_type": "stream",
     "text": [
      "<socket.socket [closed] fd=-1, family=AddressFamily.AF_INET, type=SocketKind.SOCK_STREAM, proto=0>\n"
     ]
    }
   ],
   "source": [
    "res = socketCliente.close()\n",
    "print(socketCliente)"
   ],
   "metadata": {
    "collapsed": false
   }
  },
  {
   "cell_type": "markdown",
   "source": [
    "### Programando um servidor TCP\n",
    "\n",
    "Agora que já temos um cliente, precisamos de um servidor.\n",
    "\n",
    "Como fazer um servidor? Precisamos novamente criar um socket."
   ],
   "metadata": {
    "collapsed": false
   }
  },
  {
   "cell_type": "code",
   "execution_count": 69,
   "outputs": [
    {
     "name": "stdout",
     "output_type": "stream",
     "text": [
      "<socket.socket fd=1708, family=AddressFamily.AF_INET, type=SocketKind.SOCK_STREAM, proto=0>\n"
     ]
    }
   ],
   "source": [
    "socketServidor = socket.socket(socket.AF_INET, socket.SOCK_STREAM)\n",
    "print(socketServidor)"
   ],
   "metadata": {
    "collapsed": false
   }
  },
  {
   "cell_type": "markdown",
   "source": [
    "Agora precisamos escutar em uma dada porta, que os clientes conhecem e tentarão se conectar.\n",
    "Podemos escutar em todas as interfaces de rede do servidor (\"0.0.0.0\") ou em interfaces específicas."
   ],
   "metadata": {
    "collapsed": false
   }
  },
  {
   "cell_type": "code",
   "execution_count": 70,
   "outputs": [
    {
     "name": "stdout",
     "output_type": "stream",
     "text": [
      "DESKTOP-J5V9ICO\n",
      "('DESKTOP-J5V9ICO', [], ['192.168.56.1', '192.168.0.114'])\n"
     ]
    }
   ],
   "source": [
    "nome_servidor = socket.gethostname()\n",
    "print(nome_servidor)\n",
    "ip_servidor = socket.gethostbyname_ex(nome_servidor)\n",
    "print(ip_servidor)"
   ],
   "metadata": {
    "collapsed": false
   }
  },
  {
   "cell_type": "markdown",
   "source": [
    "Neste caso, escutaremos apenas na interface de rede com o IP acima."
   ],
   "metadata": {
    "collapsed": false
   }
  },
  {
   "cell_type": "code",
   "execution_count": 71,
   "outputs": [
    {
     "name": "stdout",
     "output_type": "stream",
     "text": [
      "<socket.socket fd=1708, family=AddressFamily.AF_INET, type=SocketKind.SOCK_STREAM, proto=0, laddr=('192.168.0.114', 4400)>\n"
     ]
    }
   ],
   "source": [
    "socketServidor.bind((ip_servidor[2][1], 4400))\n",
    "print(socketServidor)"
   ],
   "metadata": {
    "collapsed": false
   }
  },
  {
   "cell_type": "markdown",
   "source": [
    "Após reservamos a porta, podemos começar a escutar.\n",
    "\n",
    "Precisamos definir o número máximo de conexões simultâneas.\n",
    "\n",
    "Escutaremos apenas uma por vez."
   ],
   "metadata": {
    "collapsed": false
   }
  },
  {
   "cell_type": "code",
   "execution_count": 72,
   "outputs": [
    {
     "name": "stdout",
     "output_type": "stream",
     "text": [
      "<socket.socket fd=1708, family=AddressFamily.AF_INET, type=SocketKind.SOCK_STREAM, proto=0, laddr=('192.168.0.114', 4400)>\n"
     ]
    }
   ],
   "source": [
    "socketServidor.listen(1)\n",
    "print(socketServidor)"
   ],
   "metadata": {
    "collapsed": false
   }
  },
  {
   "cell_type": "markdown",
   "source": [
    "Agora, configuremos o servidor para esperar por uma conexão.\n",
    "Se o fizermos agora, sem um cliente, ficaremos bloqueados esperando.\n",
    "Para solucionar isto, rodaremos um cliente em outra thread."
   ],
   "metadata": {
    "collapsed": false
   }
  },
  {
   "cell_type": "code",
   "execution_count": 73,
   "outputs": [
    {
     "data": {
      "text/plain": "<Future at 0x24b06c13a90 state=running>"
     },
     "execution_count": 73,
     "metadata": {},
     "output_type": "execute_result"
    }
   ],
   "source": [
    "import time\n",
    "\n",
    "def cliente():\n",
    "    socket_cliente_thread = socket.socket(socket.AF_INET, socket.SOCK_STREAM)\n",
    "    time.sleep(2) # coloca a thread para dormir por dois segundos enquanto o servidor é iniciado\n",
    "    socket_cliente_thread.connect((ip_servidor[2][1], 4400))\n",
    "    socket_cliente_thread.send(bytes(requisicao_http, \"utf-8\"))\n",
    "    msg = socket_cliente_thread.recv(4000)\n",
    "    print(\"Cliente:\", msg)\n",
    "    socket_cliente_thread.close()\n",
    "    print(\"Cliente:\", socket_cliente_thread)\n",
    "\n",
    "from concurrent.futures import ThreadPoolExecutor\n",
    "threadPool = ThreadPoolExecutor()\n",
    "threadPool.submit(cliente)"
   ],
   "metadata": {
    "collapsed": false
   }
  },
  {
   "cell_type": "markdown",
   "source": [
    "Agora que temos o mesmo cliente pronto para enviar a requisição HTTP e receber a resposta do servidor"
   ],
   "metadata": {
    "collapsed": false
   }
  },
  {
   "cell_type": "code",
   "execution_count": 74,
   "outputs": [
    {
     "name": "stdout",
     "output_type": "stream",
     "text": [
      "Servidor: <socket.socket fd=1716, family=AddressFamily.AF_INET, type=SocketKind.SOCK_STREAM, proto=0, laddr=('192.168.0.114', 4400), raddr=('192.168.0.114', 54378)>\n",
      "Servidor: ('192.168.0.114', 54378)\n"
     ]
    }
   ],
   "source": [
    "(socketParaCliente, enderecoDoCliente) = socketServidor.accept()\n",
    "print(\"Servidor:\", socketParaCliente)\n",
    "print(\"Servidor:\", enderecoDoCliente)\n",
    "time.sleep(1) # coloca o servidor para dormir enquanto o cliente é acordado"
   ],
   "metadata": {
    "collapsed": false
   }
  },
  {
   "cell_type": "markdown",
   "source": [
    "Após o cliente se conectar, podemos receber sua requisição. De fato, a requisição é recebida."
   ],
   "metadata": {
    "collapsed": false
   }
  },
  {
   "cell_type": "code",
   "execution_count": 75,
   "outputs": [
    {
     "name": "stdout",
     "output_type": "stream",
     "text": [
      "Servidor: b'GET / HTTP/1.1\\nHost: gnu.org\\nConnection: keep-alive\\nUser-Agent: Mozilla/5.0 (Windows NT 10.0; Win64; x64) AppleWebKit/537.36 (KHTML, like Gecko) Chrome/79.0.3945.88 Safari/537.36\\nUpgrade-Insecure-Requests: 1\\nAccept: text/html,application/xhtml+xml,application/xml;q=0.9,image/webp,image/apng,*/*;q=0.8,application/signed-exchange;v=b3;q=0.9\\nAccept-Language: en-US,en;q=0.9\\nAccept-Encoding: identity'\n"
     ]
    }
   ],
   "source": [
    "msgRecebida = socketParaCliente.recv(4000)\n",
    "print(\"Servidor:\", msgRecebida)\n",
    "time.sleep(1) # coloca o servidor para dormir enquanto o cliente é acordado"
   ],
   "metadata": {
    "collapsed": false
   }
  },
  {
   "cell_type": "markdown",
   "source": [
    "Também podemos devolver uma resposta. Neste caso, será a própria requisição.\n",
    "\n",
    "Como pode ser visto abaixo, o cliente de fato recebeu a resposta igual a sua requisição.\n",
    "\n",
    "Como o clientet só envia e recebe uma mensagem, fecha em seguida seu socket e a thread é finalizada."
   ],
   "metadata": {
    "collapsed": false
   }
  },
  {
   "cell_type": "code",
   "execution_count": 76,
   "outputs": [
    {
     "name": "stdout",
     "output_type": "stream",
     "text": [
      "Cliente: b'GET / HTTP/1.1\\nHost: gnu.org\\nConnection: keep-alive\\nUser-Agent: Mozilla/5.0 (Windows NT 10.0; Win64; x64) AppleWebKit/537.36 (KHTML, like Gecko) Chrome/79.0.3945.88 Safari/537.36\\nUpgrade-Insecure-Requests: 1\\nAccept: text/html,application/xhtml+xml,application/xml;q=0.9,image/webp,image/apng,*/*;q=0.8,application/signed-exchange;v=b3;q=0.9\\nAccept-Language: en-US,en;q=0.9\\nAccept-Encoding: identity'\n",
      "Cliente: <socket.socket [closed] fd=-1, family=AddressFamily.AF_INET, type=SocketKind.SOCK_STREAM, proto=0>\n"
     ]
    }
   ],
   "source": [
    "socketParaCliente.send(msgRecebida)\n",
    "time.sleep(1) # coloca o servidor para dormir enquanto o cliente é acordado"
   ],
   "metadata": {
    "collapsed": false
   }
  },
  {
   "cell_type": "markdown",
   "source": [
    "Após isto, fechamos a conexão do servidor."
   ],
   "metadata": {
    "collapsed": false
   }
  },
  {
   "cell_type": "code",
   "execution_count": 77,
   "outputs": [
    {
     "name": "stdout",
     "output_type": "stream",
     "text": [
      "Servidor: <socket.socket [closed] fd=-1, family=AddressFamily.AF_INET, type=SocketKind.SOCK_STREAM, proto=0>\n"
     ]
    }
   ],
   "source": [
    "socketServidor.close()\n",
    "print(\"Servidor:\", socketServidor)"
   ],
   "metadata": {
    "collapsed": false
   }
  }
 ],
 "metadata": {
  "kernelspec": {
   "display_name": "Python 3",
   "language": "python",
   "name": "python3"
  },
  "language_info": {
   "codemirror_mode": {
    "name": "ipython",
    "version": 2
   },
   "file_extension": ".py",
   "mimetype": "text/x-python",
   "name": "python",
   "nbconvert_exporter": "python",
   "pygments_lexer": "ipython2",
   "version": "2.7.6"
  }
 },
 "nbformat": 4,
 "nbformat_minor": 0
}
