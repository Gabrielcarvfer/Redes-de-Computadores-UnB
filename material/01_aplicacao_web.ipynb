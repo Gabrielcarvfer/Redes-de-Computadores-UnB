{
 "cells": [
  {
   "cell_type": "markdown",
   "metadata": {},
   "source": [
    "Aplicações Web \n",
    "=============\n",
    "\n",
    "As aplicações web são completamente ubíqüas, sendo utilizadas para internet banking, e-mail, tocadores de músicas e vídeo, controle remote para dosamento de ração de animais, tomadas/câmeras de segurança/porteiro eletrônico inteligentes que vão permitir que hackers te espionem e sabotem remotamente, dentre outras aplicações legítimas e esdrúxulas.\n",
    "\n",
    "Protocolo e requisição de objetos\n",
    "------------------------------------------------\n",
    "\n",
    "O que todas as aplicações tem em comum é o uso do protocolo de aplicação [HTTP](https://www.ietf.org/rfc/rfc2616.html), que na prática age como um protocolo de transporte de mais alto nível que o [TCP](https://www.ietf.org/rfc/rfc9293.html) ou o [QUIC](https://www.rfc-editor.org/rfc/rfc9000.html), acessados via [sockets](/02_programacao_com_sockets.ipynb) que fazem interface com o sistema operacional.\n",
    "\n",
    "Se abrirmos o menu de inspeção de um navegador web, podemos ver o corpo de um documento HTTP.\n",
    "Via script python, também podemos obter o mesmo conteúdo através da biblioteca requests, ou outra similar."
   ]
  },
  {
   "cell_type": "code",
   "execution_count": 1,
   "metadata": {
    "ExecuteTime": {
     "end_time": "2023-04-22T00:16:38.882871Z",
     "start_time": "2023-04-22T00:16:35.528522Z"
    }
   },
   "outputs": [
    {
     "name": "stdout",
     "output_type": "stream",
     "text": [
      "<!DOCTYPE html>\n",
      "<html xmlns=\"http://www.w3.org/1999/xhtml\" xml:lang=\"en\" lang=\"en\">\n",
      "<head>\n",
      "<meta http-equiv=\"content-type\" content=\"text/html; charset=utf-8\" />\n",
      "<link rel=\"author\" href=\"mailto:webmasters@gnu.org\" />\n",
      "<link rel=\"icon\" type=\"image/png\" href=\"/graphics/gnu-head-mini.png\" />\n",
      "<meta name=\"ICBM\" content=\"42.355469,-71.058627\" />\n",
      "<link rel=\"stylesheet\" type=\"text/css\" href=\"/layout.min.css\" media=\"screen\" />\n",
      "<link rel=\"stylesheet\" type=\"text/css\" href=\"/print.min.css\" media=\"print\" />\n",
      "\n",
      "\n",
      "\n"
     ]
    }
   ],
   "source": [
    "import requests\n",
    "\n",
    "dados = requests.get(\"https://gnu.org\")\n",
    "print(dados.text[:500])"
   ]
  },
  {
   "cell_type": "markdown",
   "metadata": {},
   "source": [
    "Para saber como o endereço URL se torna em um IP que é então roteado para levar o pacote até o servidor de destino, olhe a [seção de DNS](/01_aplicacao_dns.ipynb).\n",
    "\n",
    "Note que o corpo do documento contém referências a outros documentos (`gnu-head-mini.png`, `layout.min.css`, `print.min.css`).\n",
    "Estes são baixados em seguida pelo navegador, repetindo o mesmo procedimento."
   ]
  },
  {
   "cell_type": "code",
   "execution_count": 2,
   "metadata": {
    "ExecuteTime": {
     "end_time": "2023-04-22T00:17:44.007189Z",
     "start_time": "2023-04-22T00:17:41.909176Z"
    }
   },
   "outputs": [
    {
     "name": "stdout",
     "output_type": "stream",
     "text": [
      "b'\\x89PNG\\r\\n\\x1a\\n\\x00\\x00\\x00\\rIHDR\\x00\\x00\\x00 \\x00\\x00\\x00 \\x08\\x06\\x00\\x00\\x00szz\\xf4\\x00\\x00\\x00\\x06bKGD\\x00\\xff\\x00\\xff\\x00\\xff\\xa0\\xbd\\xa7\\x93\\x00\\x00\\x00\\tpHYs\\x00\\x00\\x00\\xc4\\x00\\x00\\x00\\xc4\\x01\\xcf\\x8aXL\\x00\\x00\\x00\\x07tIME\\x07\\xe3\\x05\\x06\\x0e6!~d\\xbf\\x01\\x00\\x00\\x069IDATX\\xc3\\xc5\\x97mHT\\xdb\\x17\\xc6\\x7f\\xe3\\xf8\\xc6\\x14\\x8e\\xa4\\x91\\x1aH\\xa4\\xa0IT\\x98B\\x81\\xf4\\x8e\\x14E\\x94\\x12*\\xf6%\\x89\\xc8\\x92\\xb2\\xc2\\n\\xc2\\x92H{#\\x15E\\x04\\t\\x05sH\\x94P\\tE(\\x8aDD\\xc6J\\xcb\"\\x8ca\\x08\\x91\\xc9Q\\xa7\\x98\\xec\\xe4(\\xceY\\xff\\x0f\\x9799\\xce\\\\\\xf3r\\xffp\\x1f\\x98\\x0fg\\xed\\xbd\\xcfz\\xf6\\x9a\\xf5\\xac\\xb5\\x8eND\\x84\\xff\\x10\\x81\\xfe\\x8cUUU\\x04\\x04\\x04\\xa0\\xaa*\\xaa\\xaa2;;\\x8b\\xa2(\\x14\\x17\\x17\\x13\\x14\\x14\\xb4\\xac\\x17wuua\\xb1X0\\x1a\\x8d\\xcc\\xcc\\xcc\\xb0z\\xf5j233}\\xf6\\xe9\\x16F\\xc0d2\\xe1p8\\x18\\x1a\\x1a\\xa2\\xa1\\xa1\\x01\\x80\\xb0\\xb00~\\xfc\\xf8\\xc1\\xa5K\\x97\\x88\\x8d\\x8dejj\\x8a\\xec\\xecl\\x92\\x92\\x92\\xfc:'\n"
     ]
    }
   ],
   "source": [
    "dados = requests.get(\"https://gnu.org/graphics/gnu-head-mini.png\")\n",
    "print(dados.content[:300])"
   ]
  },
  {
   "cell_type": "markdown",
   "metadata": {},
   "source": [
    "O conteúdo acima é uma imagem. Portanto, se quisermos exibí-la precisamos decodificá-la."
   ]
  },
  {
   "cell_type": "code",
   "execution_count": 3,
   "metadata": {
    "ExecuteTime": {
     "end_time": "2023-04-22T00:22:35.640469Z",
     "start_time": "2023-04-22T00:22:34.843997Z"
    }
   },
   "outputs": [
    {
     "data": {
      "text/plain": [
       "<matplotlib.image.AxesImage at 0x7fb889b02230>"
      ]
     },
     "execution_count": 3,
     "metadata": {},
     "output_type": "execute_result"
    },
    {
     "data": {
      "image/png": "[encoded data removed]",
      "text/plain": [
       "<Figure size 640x480 with 1 Axes>"
      ]
     },
     "metadata": {},
     "output_type": "display_data"
    }
   ],
   "source": [
    "from PIL import Image\n",
    "import io\n",
    "import matplotlib.pyplot as plt\n",
    "image = Image.open(io.BytesIO(dados.content))\n",
    "plt.imshow(image)"
   ]
  },
  {
   "cell_type": "markdown",
   "metadata": {},
   "source": [
    "Baixando o próximo arquivo"
   ]
  },
  {
   "cell_type": "code",
   "execution_count": 4,
   "metadata": {
    "ExecuteTime": {
     "end_time": "2023-04-22T00:16:44.361200Z",
     "start_time": "2023-04-22T00:16:41.390846Z"
    }
   },
   "outputs": [
    {
     "name": "stdout",
     "output_type": "stream",
     "text": [
      "html,body{font-size:1em;text-align:left;text-decoration:none;color:#222}html{background:#e4e4e4}body{max-width:74.92em;padding:0;margin:0 auto;background:white;border:.1em solid #bbb;border-top:0;-moz-box-shadow:0 0 5px 5px #bbb;-webkit-box-shadow:0 0 5px 5px #bbb;-icab-box-shadow:0 0 5px 5px #bbb;-o-box-shadow:0 0 5px 5px #bbb;box-shadow:0 0 5px 5px #bbb}div{padding:0;margin:0}.inner{overflow:hidden}#top{border-top:3px solid #a32d2a}.skip,#fsf-frame{position:fixed;top:-1000px}#header{text-align\n"
     ]
    }
   ],
   "source": [
    "dados = requests.get(\"https://gnu.org/layout.min.css\")\n",
    "print(dados.text[:500])"
   ]
  },
  {
   "cell_type": "markdown",
   "metadata": {},
   "source": [
    "Tudo funcionando corretamente até então. Mas estamos assumindo que isto é verdade.\n",
    "Do ponto de vista de um programador, esse é um erro grotesco.\n",
    "Devemos checar se nossa requisição foi atendida corretamente.\n",
    "\n",
    "Códigos de retorno\n",
    "----------------------------\n",
    "\n",
    "Para fazer isto, o HTTP insere códigos de retorno indicando operação bem sucedida, ou mal sucedida, além da sua causa (se programado corretamente...).\n",
    "\n",
    "Uma lista de códigos disponíveis pode ser acessada no [manual](https://developer.mozilla.org/pt-BR/docs/Web/HTTP/Status) da Mozilla Foundation.\n",
    "\n",
    "Vamos testar para alguns arquivos. \n",
    "\n",
    "O primeiro será um existente."
   ]
  },
  {
   "cell_type": "code",
   "execution_count": 5,
   "metadata": {
    "ExecuteTime": {
     "end_time": "2023-04-22T00:16:50.790751Z",
     "start_time": "2023-04-22T00:16:44.365787Z"
    }
   },
   "outputs": [
    {
     "name": "stdout",
     "output_type": "stream",
     "text": [
      "<Response [200]>\n"
     ]
    }
   ],
   "source": [
    "dados = requests.get(\"https://gnu.org/print.min.css\")\n",
    "print(dados)"
   ]
  },
  {
   "cell_type": "markdown",
   "metadata": {},
   "source": [
    "Para descobrirmos que raios este código significa, podemos utilizar outra biblioteca."
   ]
  },
  {
   "cell_type": "code",
   "execution_count": 6,
   "metadata": {},
   "outputs": [
    {
     "name": "stdout",
     "output_type": "stream",
     "text": [
      "OK\n"
     ]
    }
   ],
   "source": [
    "import http.client\n",
    "print(http.client.responses[dados.status_code])"
   ]
  },
  {
   "cell_type": "markdown",
   "metadata": {},
   "source": [
    "Agora tentaremos com um arquivo inexistente."
   ]
  },
  {
   "cell_type": "code",
   "execution_count": 7,
   "metadata": {},
   "outputs": [
    {
     "name": "stdout",
     "output_type": "stream",
     "text": [
      "404\n",
      "Not Found\n"
     ]
    }
   ],
   "source": [
    "dados = requests.get(\"https://gnu.org/nao_existe_a_menor_chance_deste_arquivo_existir.txt\")\n",
    "print(dados.status_code)\n",
    "print(http.client.responses[dados.status_code])"
   ]
  },
  {
   "cell_type": "markdown",
   "metadata": {},
   "source": [
    "Pronto. Com isso já se pode ter uma idéia de como funcionam estas requisições de objetos via HTTP.\n",
    "\n",
    "Mas como exatamente são preenchidas estas requisições?\n",
    "\n",
    "Formato das requisições\n",
    "-----------------------------------\n",
    "\n",
    "Podemos visualizar as requisições feitas pela biblioteca `requests` assim como enviado para a camada de transporte do sistema operacional. Para isso, faremos um gato com o truque de [monkey-patching](https://en.wikipedia.org/wiki/Monkey_patch) do [StackOverflow](https://stackoverflow.com/a/20660170)"
   ]
  },
  {
   "cell_type": "code",
   "execution_count": 8,
   "metadata": {},
   "outputs": [
    {
     "name": "stdout",
     "output_type": "stream",
     "text": [
      "b'GET /nao_existe_a_menor_chance_deste_arquivo_existir.txt HTTP/1.1\\r\\nHost: gnu.org\\r\\nUser-Agent: python-requests/2.28.2\\r\\nAccept-Encoding: gzip, deflate, br\\r\\nAccept: */*\\r\\nConnection: keep-alive\\r\\n\\r\\n'\n",
      "b'GET /nao_existe_a_menor_chance_deste_arquivo_existir.txt HTTP/1.1\\r\\nHost: www.gnu.org\\r\\nUser-Agent: python-requests/2.28.2\\r\\nAccept-Encoding: gzip, deflate, br\\r\\nAccept: */*\\r\\nConnection: keep-alive\\r\\n\\r\\n'\n"
     ]
    }
   ],
   "source": [
    "printOnce = []\n",
    "def patch_send():\n",
    "    old_send= http.client.HTTPConnection.send\n",
    "    def new_send( self, data ):\n",
    "        global printOnce\n",
    "        if data not in printOnce:\n",
    "            print (data)\n",
    "            printOnce.append(data)\n",
    "        return old_send(self, data)\n",
    "    http.client.HTTPConnection.send= new_send\n",
    "\n",
    "patch_send()\n",
    "dados = requests.get(\"https://gnu.org/nao_existe_a_menor_chance_deste_arquivo_existir.txt\")"
   ]
  },
  {
   "cell_type": "markdown",
   "metadata": {},
   "source": [
    "Como podemos observar, temos nossa requisição (`GET`) HTTP buscando o caminho do arquivo inexistente no servidor.\n",
    "\n",
    "As múltiplas impressões são devido as múltiplas tentantivas de se tentar baixar o arquivo inexistente, caso o servidor tivesse retornado um código de erro incorreto.\n",
    "\n",
    "Também podemos utilizar outros métodos, como o método `POST`, para envio de dados. Vejamos a diferença do conteúdo da requisição."
   ]
  },
  {
   "cell_type": "code",
   "execution_count": 9,
   "metadata": {},
   "outputs": [
    {
     "name": "stdout",
     "output_type": "stream",
     "text": [
      "b'POST /nao_existe_a_menor_chance_deste_arquivo_existir.txt HTTP/1.1\\r\\nHost: gnu.org\\r\\nUser-Agent: python-requests/2.28.2\\r\\nAccept-Encoding: gzip, deflate, br\\r\\nAccept: */*\\r\\nConnection: keep-alive\\r\\nContent-Length: 17\\r\\nContent-Type: application/json\\r\\n\\r\\n'\n",
      "b'{\"hot\": \"potato\"}'\n"
     ]
    }
   ],
   "source": [
    "dados = requests.post(\"https://gnu.org/nao_existe_a_menor_chance_deste_arquivo_existir.txt\", json={\"hot\":\"potato\"})"
   ]
  },
  {
   "cell_type": "markdown",
   "metadata": {},
   "source": [
    "Como podemos observar, o tipo de conteúdo do objeto foi modificado para application/json, e o comprimento do conteúdo é de 17 bytes (`{\"hot\": \"potato\"}`).\n",
    "\n",
    "Escrevendo uma aplicação web\n",
    "---------------------------------------------\n",
    "\n",
    "Implementar um servidor web é trabalho para poucos. Muitos detalhes, muita chance de fazer alguma besteira e acabar expondo seu servidor e dados privados. Existem diversas opções disponíveis, incluindo os famosos: [Apache httpd](https://httpd.apache.org/), o [lighthttpd](https://www.lighttpd.net/) e [NGINX](https://nginx.org/en/).\n",
    "\n",
    "Também existem diversos frameworks para desenvolvimento de sites que oferecem seus próprios servidores.\n",
    "Meu favorito é o [Flask](https://flask.palletsprojects.com/en/2.2.x/), para Python.\n",
    "\n",
    "Vamos implementar um servidor para fazer uma demonstração."
   ]
  },
  {
   "cell_type": "code",
   "execution_count": 12,
   "metadata": {},
   "outputs": [
    {
     "name": "stdout",
     "output_type": "stream",
     "text": [
      " * Serving Flask app '__main__'\n",
      " * Debug mode: off\n"
     ]
    },
    {
     "name": "stderr",
     "output_type": "stream",
     "text": [
      "WARNING: This is a development server. Do not use it in a production deployment. Use a production WSGI server instead.\n",
      " * Running on http://127.0.0.1:5000\n",
      "Press CTRL+C to quit\n",
      "127.0.0.1 - - [22/Apr/2023 01:40:43] \"GET / HTTP/1.1\" 200 -\n"
     ]
    },
    {
     "name": "stdout",
     "output_type": "stream",
     "text": [
      "<p>Hello, World!</p>\n"
     ]
    }
   ],
   "source": [
    "from flask import Flask, request\n",
    "from multiprocessing import Process\n",
    "import time \n",
    "\n",
    "app = Flask(__name__)\n",
    "\n",
    "@app.route(\"/\")\n",
    "def hello_world():\n",
    "    return \"<p>Hello, World!</p>\"\n",
    "\n",
    "\n",
    "if __name__ == \"__main__\":\n",
    "    # Inicia servidor Web em um outro processo escutando na porta 5000\n",
    "    server = Process(target=app.run, kwargs={\"port\":5000})\n",
    "    server.start()\n",
    "    \n",
    "    # Dá alguns segundos para o servidor ser iniciado\n",
    "    time.sleep(2)\n",
    "    \n",
    "    # Requisita caminho '/' do servidor local '127.0.0.1' na porta '5000'\n",
    "    # Porta padrão sem criptografia é a 80\n",
    "    # Porta padrão com criptografia é a 443\n",
    "    dados = requests.get(\"http://127.0.0.1:5000/\", verify=False) # não usar criptografia ou https\n",
    "    print(dados.text)\n",
    "    \n",
    "    # Desliga servidor e mata processo filho\n",
    "    server.terminate()\n",
    "    server.join()"
   ]
  },
  {
   "cell_type": "markdown",
   "metadata": {},
   "source": [
    "Como podemos ver, nosso servidor funciona. Bacana. E o que podemos fazer com ele? Endpoints de API. Vejamos um exemplo."
   ]
  },
  {
   "cell_type": "code",
   "execution_count": 17,
   "metadata": {},
   "outputs": [
    {
     "name": "stdout",
     "output_type": "stream",
     "text": [
      " * Serving Flask app '__main__'\n",
      " * Debug mode: off\n"
     ]
    },
    {
     "name": "stderr",
     "output_type": "stream",
     "text": [
      "WARNING: This is a development server. Do not use it in a production deployment. Use a production WSGI server instead.\n",
      " * Running on http://127.0.0.1:5001\n",
      "Press CTRL+C to quit\n",
      "127.0.0.1 - - [22/Apr/2023 01:44:44] \"GET /usuario/ HTTP/1.1\" 200 -\n",
      "127.0.0.1 - - [22/Apr/2023 01:44:44] \"GET /usuario/banana@gmail.com HTTP/1.1\" 404 -\n",
      "127.0.0.1 - - [22/Apr/2023 01:44:44] \"POST /usuario/banana@gmail.com HTTP/1.1\" 200 -\n",
      "127.0.0.1 - - [22/Apr/2023 01:44:44] \"GET /usuario/ HTTP/1.1\" 200 -\n",
      "127.0.0.1 - - [22/Apr/2023 01:44:44] \"POST /usuario/banana@gmail.com HTTP/1.1\" 409 -\n"
     ]
    },
    {
     "name": "stdout",
     "output_type": "stream",
     "text": [
      "<Response [200]>\n",
      "{}\n",
      "==================================================\n",
      "<Response [404]>\n",
      "{}\n",
      "==================================================\n",
      "<Response [200]>\n",
      "==================================================\n",
      "<Response [200]>\n",
      "{\"banana@gmail.com\": true}\n",
      "==================================================\n",
      "<Response [409]>\n"
     ]
    }
   ],
   "source": [
    "import json\n",
    "\n",
    "app = Flask(__name__)\n",
    "\n",
    "@app.route(\"/\")\n",
    "def hello_world():\n",
    "    return \"<p>Hello, World!</p>\"\n",
    "\n",
    "usuarios = {}\n",
    "\n",
    "@app.route('/usuario/')\n",
    "@app.route(\"/usuario/<email>\", methods=[\"GET\", \"POST\"])\n",
    "def usuario(email=None):\n",
    "    global usuarios\n",
    "    if request.method == 'GET':\n",
    "        if email is None:\n",
    "            return json.dumps(usuarios)\n",
    "        else:\n",
    "            if email in usuarios:\n",
    "                return json.dumps({email:usuarios[email]})\n",
    "            else:\n",
    "                return json.dumps({}), 404 # Not Found\n",
    "    else: # POST\n",
    "        if email is None:\n",
    "            return json.dump({}), 400 # Bad request\n",
    "        else:\n",
    "            if email in usuarios:\n",
    "                return json.dumps({}), 409 # Conflict\n",
    "            else:\n",
    "                usuarios[email] = True\n",
    "                return json.dumps({}), 200 # OK\n",
    "                \n",
    "\n",
    "    \n",
    "\n",
    "if __name__ == \"__main__\":\n",
    "    porta = 5001\n",
    "    # Inicia servidor Web em um outro processo escutando na porta 5000\n",
    "    server = Process(target=app.run, kwargs={\"port\":porta})\n",
    "    server.start()\n",
    "    \n",
    "    # Dá alguns segundos para o servidor ser iniciado\n",
    "    time.sleep(2)\n",
    "    \n",
    "    # Checa todos os usuários existentes\n",
    "    dados = requests.get(f\"http://127.0.0.1:{porta}/usuario/\", verify=False)\n",
    "    print(dados) # Deve retornar 200\n",
    "    print(dados.text)\n",
    "    \n",
    "    print(\"=\"*50)\n",
    "    # Checa o usuário banana@gmail.com\n",
    "    dados = requests.get(f\"http://127.0.0.1:{porta}/usuario/banana@gmail.com\", verify=False)\n",
    "    print(dados) # Deve retornar 404\n",
    "    print(dados.text)\n",
    "    \n",
    "    print(\"=\"*50)\n",
    "    # Cria o usuário banana@gmail.com\n",
    "    dados = requests.post(f\"http://127.0.0.1:{porta}/usuario/banana@gmail.com\", verify=False)\n",
    "    print(dados) # Deve retornar 200\n",
    "    \n",
    "    print(\"=\"*50)\n",
    "    # Checa todos os usuários existentes\n",
    "    dados = requests.get(f\"http://127.0.0.1:{porta}/usuario/\", verify=False)\n",
    "    print(dados) # Deve retornar 200\n",
    "    print(dados.text)\n",
    "    \n",
    "    print(\"=\"*50)\n",
    "    # Tenta sobrescrever o usuário banana@gmail.com\n",
    "    dados = requests.post(f\"http://127.0.0.1:{porta}/usuario/banana@gmail.com\", verify=False)\n",
    "    print(dados) # Deve retornar 409\n",
    "    \n",
    "    \n",
    "    # Desliga servidor e mata processo filho\n",
    "    server.terminate()\n",
    "    server.join()"
   ]
  },
  {
   "cell_type": "code",
   "execution_count": null,
   "metadata": {},
   "outputs": [],
   "source": []
  },
  {
   "cell_type": "code",
   "execution_count": null,
   "metadata": {},
   "outputs": [],
   "source": []
  }
 ],
 "metadata": {
  "kernelspec": {
   "display_name": "Python 3 (ipykernel)",
   "language": "python",
   "name": "python3"
  },
  "language_info": {
   "codemirror_mode": {
    "name": "ipython",
    "version": 3
   },
   "file_extension": ".py",
   "mimetype": "text/x-python",
   "name": "python",
   "nbconvert_exporter": "python",
   "pygments_lexer": "ipython3",
   "version": "3.10.6"
  }
 },
 "nbformat": 4,
 "nbformat_minor": 1
}
