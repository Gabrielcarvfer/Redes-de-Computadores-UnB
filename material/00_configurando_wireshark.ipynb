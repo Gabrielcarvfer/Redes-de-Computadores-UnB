{
 "cells": [
  {
   "cell_type": "markdown",
   "source": [
    "O [Wireshark](https://www.wireshark.org/) é uma aplicação de coleta de tráfego de rede que pode ser utilizada para a análise dos protocolos e tráfego.\n",
    "\n",
    "Após a instalação, verão a seguinte tela, listando interfaces de rede que podem ter seu tráfego capturado.\n",
    "\n",
    "![](00_configurando_wireshark/tela_inicio.PNG)\n",
    "\n",
    "Selecione a interface de sua preferência. Se tiver máquinas virtuais, ou VPNs, verá mais interfaces do que o número de interfaces físicas do dispositivo. Estas são implementadas em software pelo sistema operacional.\n",
    "\n",
    "Após apertar em um dos nomes das interfaces disponíveis, a captura será iniciada automaticamente.\n",
    "\n",
    "![](00_configurando_wireshark/wireshark_captura.PNG)\n",
    "\n",
    "As numerações na figura acima indicam:\n",
    "1. Parar captura de tráfego\n",
    "2. Filtrar pacotes por endereços IP (ou outras características, como porta, endereço MAC, protocolo, etc)\n",
    "3. Endereços IP de origem dos pacotes (remetentes)\n",
    "4. Endereços IP de destino dos pacotes (destinatários)\n",
    "5. Coluna de protocolos utilizados para cada pacote capturado\n",
    "6. Coluna com o tamanho dos pacotes (se o pacote for grande demais para ser transmitido pelas interfaces, o pacote é segmentado e transmitido em segmentos posteriormente remontados. Será indicado que se trata de um segmento)\n",
    "7. Columa com breve descrição do conteúdo do pacote\n",
    "8. Consulta (Query) do serviço DNS para resolver o endereço IP do servidor do Google Analytics\n",
    "9. Resposta da consulta (Answer) do serviço de DNS, indicando que o endereço é 0.0.0.0 (na minha rede, este domínio é bloqueado e o endereço de resposta é errado de propósito)\n",
    "10. Aba de configurações da visualização dos dados.\n",
    "\n",
    "Clicando na aba de configurações, podemos ativar a resolução de nomes, para termos nomes legíveis (traduzidos em parte pelo DNS) invés de endereços IP.\n",
    "![](00_configurando_wireshark/wireshark_captura_resolver_nomes.PNG)\n",
    "\n",
    "As numerações na figura acima indicam:\n",
    "11. Opções para resolução de nomes dos endereços (MAC, IP, Protocolo de transporte)\n"
   ],
   "metadata": {
    "collapsed": false
   }
  },
  {
   "cell_type": "markdown",
   "source": [
    "# Como visualizar tráfego criptografado com o Wireshark (no Windows)\n",
    "\n",
    "Cada vez mais aplicações usam conexões criptografadas.\n",
    "Para podermos observar o seu conteúdo, precisamos descriptografar as mensagens.\n",
    "Para descriptografar as mensagens, precisamos das chaves criptográficas utilizadas.\n",
    "\n",
    "No Windows, isto pode ser feito setando a variável de ambiente SSLKEYLOGFILE para um arquivo ssl.log no diretório do usuário (`%USERPROFILE%\\ssl.log`) e reiniciando.\n",
    "\n",
    "O arquivo de log de chaves então pode ser utilizado pelo Wireshark para descriptografar as mensagens de rede coletadas. Mais detalhes em: [https://resources.infosecinstitute.com/topic/decrypting-ssl-tls-traffic-with-wireshark/](https://resources.infosecinstitute.com/topic/decrypting-ssl-tls-traffic-with-wireshark/)\n",
    "\n",
    "### AVISO: NÃO ACESSE SERVIÇOS SENSÍVEIS ENQUANTO NÃO TERMINAR DE FAZER SUA COLETA, REMOVER A VARIÁVEL DE AMBIENTE, APAGAR O ARQUIVO DE LOG E REINICIAR SUA MÁQUINA. Durante este período, outras aplicações instaladas no seu computador também poderão usar as chaves para ver o tráfego, possibilitando o roubo de credenciais e senhas.\n",
    "\n",
    "![](./00_configurando_wireshark/sslkey_wireshark.PNG)"
   ],
   "metadata": {
    "collapsed": false
   }
  },
  {
   "cell_type": "code",
   "execution_count": null,
   "outputs": [],
   "source": [],
   "metadata": {
    "collapsed": false
   }
  }
 ],
 "metadata": {
  "kernelspec": {
   "display_name": "Python 3",
   "language": "python",
   "name": "python3"
  },
  "language_info": {
   "codemirror_mode": {
    "name": "ipython",
    "version": 2
   },
   "file_extension": ".py",
   "mimetype": "text/x-python",
   "name": "python",
   "nbconvert_exporter": "python",
   "pygments_lexer": "ipython2",
   "version": "2.7.6"
  }
 },
 "nbformat": 4,
 "nbformat_minor": 0
}
