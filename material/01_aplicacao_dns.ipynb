{
 "cells": [
  {
   "cell_type": "markdown",
   "metadata": {},
   "source": [
    "Observemos o [wireshark](./00_configurando_wireshark.ipynb) enquanto tentamos acessar um site.\n",
    "\n",
    "Podemos ver a requisição de DNS feita na rede para a resolução do endereço do domínio \"resources.infosecinstitute.com\".\n",
    "\n",
    "A requisição DNS contém apenas uma query (uma única requisição de resolução de nome de domínio, quando poderiam ser feitas múltiplas queries em uma mesma requisição).\n",
    "\n",
    "A requisição do registro de DNS é do tipo A (endereço IPv4 do servidor).\n",
    "Dentre todos os [tipos de serviços suportados (RFC1035 Seção 3.2.2)](https://www.ietf.org/rfc/rfc1035.txt), os mais comuns são:\n",
    "- CNAME: alias de domínio\n",
    "- AAAA: endereço IPv6 do servidor\n",
    "- MX: servidor de email SMTP\n",
    "- NS: servidor autoritativo de DNS do domínio\n",
    "- TXT: strings de texto (tipicamente com dados sobre o domínio)\n",
    "- PTR: nome do servidor com endereço A/AAAA (utilizado para DNS reverso)\n",
    "- SOA: início das informações autoritativas (contém informação essencial sobre o domínio)\n",
    "- SRV: indica serviços suportados pelo domínio e suas respectivas portas\n",
    "\n",
    "![](./01_aplicacao_dns/wireshark_dns_request.PNG)\n",
    "![](./01_aplicacao_dns/wireshark_dns_response.PNG)"
   ]
  },
  {
   "cell_type": "markdown",
   "metadata": {},
   "source": [
    "Invés de utilizamos um navegador para disparar a requisição de DNS, podemos utilizar o cliente em linha de comando."
   ]
  },
  {
   "cell_type": "code",
   "execution_count": 1,
   "metadata": {
    "collapsed": true
   },
   "outputs": [],
   "source": [
    "import subprocess\n",
    "import sys\n",
    "def run_command(command):\n",
    "    answer = subprocess.check_output(command)\n",
    "    try:\n",
    "        answer = answer.decode(\"utf-8\") # codificação de gente civilizada\n",
    "    except UnicodeDecodeError:\n",
    "        answer = answer.decode(\"858\") # codificação idiota do Windows\n",
    "        # https://learn.microsoft.com/en-gb/windows/win32/intl/code-page-identifiers\n",
    "    print(answer)"
   ]
  },
  {
   "cell_type": "markdown",
   "metadata": {},
   "source": [
    "Comandos para requisição de resolução de nomes DNS do Windows.\n",
    "https://learn.microsoft.com/en-us/windows-server/administration/windows-commands/nslookup"
   ]
  },
  {
   "cell_type": "markdown",
   "metadata": {},
   "source": [
    "Utilizando uma consulta simples para o nome de domínio do Google."
   ]
  },
  {
   "cell_type": "code",
   "execution_count": 2,
   "metadata": {},
   "outputs": [
    {
     "name": "stdout",
     "output_type": "stream",
     "text": [
      "Servidor:  ubuntu\r\n",
      "Address:  192.168.0.10\r\n",
      "\r\n",
      "Nome:    google.com\r\n",
      "Addresses:  2800:3f0:4001:808::200e\r\n",
      "\t  142.250.219.46\r\n",
      "\r\n",
      "\n"
     ]
    }
   ],
   "source": [
    "run_command(\"nslookup google.com\")"
   ]
  },
  {
   "cell_type": "code",
   "execution_count": 3,
   "metadata": {},
   "outputs": [
    {
     "name": "stdout",
     "output_type": "stream",
     "text": [
      "------------\r\n",
      "Got answer:\r\n",
      "    HEADER:\r\n",
      "\topcode = QUERY, id = 1, rcode = NXDOMAIN\r\n",
      "\theader flags:  response, want recursion, recursion avail.\r\n",
      "\tquestions = 1,  answers = 0,  authority records = 1,  additional = 0\r\n",
      "\r\n",
      "    QUESTIONS:\r\n",
      "\t10.0.168.192.in-addr.arpa, type = PTR, class = IN\r\n",
      "    AUTHORITY RECORDS:\r\n",
      "    ->  10.0.168.192.in-addr.arpa\r\n",
      "\tttl = 10 (10 secs)\r\n",
      "\tprimary name server = fake-for-negative-caching.adguard.com\r\n",
      "\tresponsible mail addr = hostmaster.10.0.168.192.in-addr.arpa\r\n",
      "\tserial  = 100500\r\n",
      "\trefresh = 1800 (30 mins)\r\n",
      "\tretry   = 900 (15 mins)\r\n",
      "\texpire  = 604800 (7 days)\r\n",
      "\tdefault TTL = 86400 (1 day)\r\n",
      "\r\n",
      "------------\r\n",
      "Servidor:  UnKnown\r\n",
      "Address:  192.168.0.10\r\n",
      "\r\n",
      "------------\r\n",
      "Got answer:\r\n",
      "    HEADER:\r\n",
      "\topcode = QUERY, id = 2, rcode = NOERROR\r\n",
      "\theader flags:  response, want recursion, recursion avail.\r\n",
      "\tquestions = 1,  answers = 1,  authority records = 0,  additional = 0\r\n",
      "\r\n",
      "    QUESTIONS:\r\n",
      "\tgoogle.com, type = A, class = IN\r\n",
      "    ANSWERS:\r\n",
      "    ->  google.com\r\n",
      "\tinternet address = 142.250.219.46\r\n",
      "\tttl = 120 (2 mins)\r\n",
      "\r\n",
      "------------\r\n",
      "------------\r\n",
      "Got answer:\r\n",
      "    HEADER:\r\n",
      "\topcode = QUERY, id = 3, rcode = NOERROR\r\n",
      "\theader flags:  response, want recursion, recursion avail.\r\n",
      "\tquestions = 1,  answers = 1,  authority records = 0,  additional = 0\r\n",
      "\r\n",
      "    QUESTIONS:\r\n",
      "\tgoogle.com, type = AAAA, class = IN\r\n",
      "    ANSWERS:\r\n",
      "    ->  google.com\r\n",
      "\tAAAA IPv6 address = 2800:3f0:4001:808::200e\r\n",
      "\tttl = 227 (3 mins 47 secs)\r\n",
      "\r\n",
      "------------\r\n",
      "Nome:    google.com\r\n",
      "Addresses:  2800:3f0:4001:808::200e\r\n",
      "\t  142.250.219.46\r\n",
      "\r\n",
      "\n"
     ]
    }
   ],
   "source": [
    "run_command(\"nslookup -d google.com\") # todos os registros de DNS do domínio"
   ]
  },
  {
   "cell_type": "code",
   "execution_count": 4,
   "metadata": {},
   "outputs": [
    {
     "name": "stdout",
     "output_type": "stream",
     "text": [
      "Servidor:  UnKnown\r\n",
      "Address:  192.168.0.10\r\n",
      "\r\n",
      "google.com\r\n",
      "\tprimary name server = ns1.google.com\r\n",
      "\tresponsible mail addr = dns-admin.google.com\r\n",
      "\tserial  = 490697519\r\n",
      "\trefresh = 900 (15 mins)\r\n",
      "\tretry   = 900 (15 mins)\r\n",
      "\texpire  = 1800 (30 mins)\r\n",
      "\tdefault TTL = 60 (1 min)\r\n",
      "\n"
     ]
    }
   ],
   "source": [
    "run_command(\"nslookup -type=soa google.com\") # coleta registros autoritativos do domínio"
   ]
  },
  {
   "cell_type": "code",
   "execution_count": 5,
   "metadata": {},
   "outputs": [
    {
     "name": "stdout",
     "output_type": "stream",
     "text": [
      "Servidor:  UnKnown\r\n",
      "Address:  192.168.0.10\r\n",
      "\r\n",
      "google.com\ttext =\r\n",
      "\r\n",
      "\t\"webexdomainverification.8YX6G=6e6922db-e3e6-4a36-904e-a805c28087fa\"\r\n",
      "google.com\ttext =\r\n",
      "\r\n",
      "\t\"google-site-verification=TV9-DBe4R80X4v0M4U_bd_J9cpOJM0nikft0jAgjmsQ\"\r\n",
      "google.com\ttext =\r\n",
      "\r\n",
      "\t\"globalsign-smime-dv=CDYX+XFHUw2wml6/Gb8+59BsH31KzUr6c1l2BPvqKX8=\"\r\n",
      "google.com\ttext =\r\n",
      "\r\n",
      "\t\"facebook-domain-verification=22rm551cu4k0ab0bxsw536tlds4h95\"\r\n",
      "google.com\ttext =\r\n",
      "\r\n",
      "\t\"google-site-verification=wD8N7i1JTNTkezJ49swvWW48f8_9xveREV4oB-0Hf5o\"\r\n",
      "google.com\ttext =\r\n",
      "\r\n",
      "\t\"docusign=1b0a6754-49b1-4db5-8540-d2c12664b289\"\r\n",
      "google.com\ttext =\r\n",
      "\r\n",
      "\t\"onetrust-domain-verification=de01ed21f2fa4d8781cbc3ffb89cf4ef\"\r\n",
      "google.com\ttext =\r\n",
      "\r\n",
      "\t\"docusign=05958488-4752-4ef2-95eb-aa7ba8a3bd0e\"\r\n",
      "google.com\ttext =\r\n",
      "\r\n",
      "\t\"v=spf1 include:_spf.google.com ~all\"\r\n",
      "google.com\ttext =\r\n",
      "\r\n",
      "\t\"apple-domain-verification=30afIBcvSuDV2PLX\"\r\n",
      "google.com\ttext =\r\n",
      "\r\n",
      "\t\"atlassian-domain-verification=5YjTmWmjI92ewqkx2oXmBaD60Td9zWon9r6eakvHX6B77zzkFQto8PQ9QsKnbf4I\"\r\n",
      "google.com\ttext =\r\n",
      "\r\n",
      "\t\"MS=E4A68B9AB2BB9670BCE15412F62916164C0B20BB\"\r\n",
      "\n"
     ]
    }
   ],
   "source": [
    "run_command(\"nslookup -type=txt google.com\") # coleta registro de texto carregando hashes para validação do domínio"
   ]
  },
  {
   "cell_type": "code",
   "execution_count": 6,
   "metadata": {},
   "outputs": [
    {
     "name": "stdout",
     "output_type": "stream",
     "text": [
      "Servidor:  UnKnown\r\n",
      "Address:  192.168.0.10\r\n",
      "\r\n",
      "Nome:    ibm.com\r\n",
      "Addresses:  2600:1419:1e00:386::3831\r\n",
      "\t  2600:1419:1e00:394::3831\r\n",
      "\t  104.113.42.218\r\n",
      "\r\n",
      "\n"
     ]
    }
   ],
   "source": [
    "run_command(\"nslookup ibm.com\")"
   ]
  },
  {
   "cell_type": "code",
   "execution_count": 7,
   "metadata": {},
   "outputs": [
    {
     "name": "stdout",
     "output_type": "stream",
     "text": [
      "Servidor:  ubuntu\r\n",
      "Address:  192.168.0.10\r\n",
      "\r\n",
      "ibm.com\r\n",
      "\tprimary name server = asia3.akam.net\r\n",
      "\tresponsible mail addr = dnsadm.us.ibm.com\r\n",
      "\tserial  = 1564135466\r\n",
      "\trefresh = 43200 (12 hours)\r\n",
      "\tretry   = 7200 (2 hours)\r\n",
      "\texpire  = 604800 (7 days)\r\n",
      "\tdefault TTL = 3600 (1 hour)\r\n",
      "\n"
     ]
    }
   ],
   "source": [
    "run_command(\"nslookup -type=soa ibm.com\") # outro exemplo"
   ]
  },
  {
   "cell_type": "code",
   "execution_count": 8,
   "metadata": {},
   "outputs": [
    {
     "name": "stdout",
     "output_type": "stream",
     "text": [
      "Servidor:  UnKnown\r\n",
      "Address:  192.168.0.10\r\n",
      "\r\n",
      "Nome:    ibm.com\r\n",
      "Addresses:  2600:1419:1e00:386::3831\r\n",
      "\t  2600:1419:1e00:394::3831\r\n",
      "\t  104.113.42.218\r\n",
      "\r\n",
      "\n"
     ]
    }
   ],
   "source": [
    "run_command(\"nslookup -a ibm.com\")"
   ]
  },
  {
   "cell_type": "markdown",
   "metadata": {},
   "source": [
    "Utilizando a ferramenta dnslookup distribuída com o Msys2, podemos mostrar as diferentes respostas para um mesmo domínio dadas por diferentes servidores de DNS:"
   ]
  },
  {
   "cell_type": "code",
   "execution_count": 9,
   "metadata": {},
   "outputs": [
    {
     "name": "stdout",
     "output_type": "stream",
     "text": [
      "dnslookup v. 1.5.1\n",
      "dnslookup result:\n",
      ";; opcode: QUERY, status: NOERROR, id: 52114\n",
      ";; flags: qr rd ra; QUERY: 1, ANSWER: 1, AUTHORITY: 0, ADDITIONAL: 0\n",
      "\n",
      ";; QUESTION SECTION:\n",
      ";ibm.com.\tIN\t A\n",
      "\n",
      ";; ANSWER SECTION:\n",
      "ibm.com.\t20\tIN\tA\t104.113.42.218\n",
      "\n",
      "\n",
      "=======================================\n",
      "dnslookup v. 1.5.1\n",
      "dnslookup result:\n",
      ";; opcode: QUERY, status: NOERROR, id: 16986\n",
      ";; flags: qr rd ra; QUERY: 1, ANSWER: 1, AUTHORITY: 0, ADDITIONAL: 0\n",
      "\n",
      ";; QUESTION SECTION:\n",
      ";ibm.com.\tIN\t A\n",
      "\n",
      ";; ANSWER SECTION:\n",
      "ibm.com.\t20\tIN\tA\t104.113.42.218\n",
      "\n",
      "\n",
      "=======================================\n",
      "dnslookup v. 1.5.1\n",
      "dnslookup result:\n",
      ";; opcode: QUERY, status: NOERROR, id: 47377\n",
      ";; flags: qr rd ra; QUERY: 1, ANSWER: 1, AUTHORITY: 0, ADDITIONAL: 0\n",
      "\n",
      ";; QUESTION SECTION:\n",
      ";ibm.com.\tIN\t A\n",
      "\n",
      ";; ANSWER SECTION:\n",
      "ibm.com.\t20\tIN\tA\t72.246.139.85\n",
      "\n",
      "\n",
      "=======================================\n",
      "dnslookup v. 1.5.1\n",
      "dnslookup result:\n",
      ";; opcode: QUERY, status: NOERROR, id: 63706\n",
      ";; flags: qr rd ra; QUERY: 1, ANSWER: 1, AUTHORITY: 0, ADDITIONAL: 0\n",
      "\n",
      ";; QUESTION SECTION:\n",
      ";ibm.com.\tIN\t A\n",
      "\n",
      ";; ANSWER SECTION:\n",
      "ibm.com.\t20\tIN\tA\t96.6.222.96\n",
      "\n",
      "\n",
      "=======================================\n",
      "dnslookup v. 1.5.1\n",
      "dnslookup result:\n",
      ";; opcode: QUERY, status: NOERROR, id: 54513\n",
      ";; flags: qr rd ra; QUERY: 1, ANSWER: 1, AUTHORITY: 0, ADDITIONAL: 0\n",
      "\n",
      ";; QUESTION SECTION:\n",
      ";ibm.com.\tIN\t A\n",
      "\n",
      ";; ANSWER SECTION:\n",
      "ibm.com.\t60\tIN\tA\t104.115.116.80\n",
      "\n",
      "\n"
     ]
    }
   ],
   "source": [
    "run_command(\"dnslookup ibm.com 1.1.1.1\") # query Cloudflare DNS\n",
    "print(\"=======================================\")\n",
    "run_command(\"dnslookup ibm.com 8.8.8.8\") # query Google DNS\n",
    "print(\"=======================================\")\n",
    "run_command(\"dnslookup ibm.com 9.9.9.9\") # query Quad9 DNS\n",
    "print(\"=======================================\")\n",
    "run_command(\"dnslookup ibm.com 189.38.95.95\") # query Giga DNS\n",
    "print(\"=======================================\")\n",
    "run_command(\"dnslookup ibm.com 94.140.14.14\") # query Adguard DNS"
   ]
  },
  {
   "cell_type": "markdown",
   "metadata": {},
   "source": [
    "Como o DNS é um serviço frequentemente utilizado, é guardado um cache tanto nos servidores de DNS distribuídos, como na máquina local. No Windows, este pode ser apagado utilizando o comando abaixo."
   ]
  },
  {
   "cell_type": "code",
   "execution_count": 10,
   "metadata": {},
   "outputs": [
    {
     "name": "stdout",
     "output_type": "stream",
     "text": [
      "\r\n",
      "Configuração de IP do Windows\r\n",
      "\r\n",
      "Liberação do Cache do DNS Resolver bem-sucedida.\r\n",
      "\n"
     ]
    }
   ],
   "source": [
    "run_command(\"ipconfig /flushdns\")"
   ]
  },
  {
   "cell_type": "markdown",
   "metadata": {},
   "source": [
    "E para mostrar o conteúdo do DNS, podemos utilizar o seguinte comando."
   ]
  },
  {
   "cell_type": "code",
   "execution_count": 11,
   "metadata": {},
   "outputs": [
    {
     "name": "stdout",
     "output_type": "stream",
     "text": [
      "\r\n",
      "Configuração de IP do Windows\r\n",
      "\r\n",
      "    1.0.0.127.in-addr.arpa\r\n",
      "    ----------------------------------------\r\n",
      "     Nome do Registro. . . . . . . . . . . . . : 1.0.0.127.in-addr.arpa.\r\n",
      "     Tipo de Registro. . . . . . . . . . . . . : 12\r\n",
      "     Tempo de Vida . . . . . . . . . . . . . . : 593912\r\n",
      "     Comprimento dos Dados . . . . . . . . . . : 8\r\n",
      "    Seção. . . . . . . . . . . . . . . . . . . : Resposta\r\n",
      "    Registro PTR . . . . . . . . . . . . . . . : kubernetes.docker.internal\r\n",
      "\r\n",
      "\r\n",
      "    gateway.docker.internal\r\n",
      "    ----------------------------------------\r\n",
      "    Nenhum registro do tipo AAAA\r\n",
      "\r\n",
      "\r\n",
      "    gateway.docker.internal\r\n",
      "    ----------------------------------------\r\n",
      "     Nome do Registro. . . . . . . . . . . . . : gateway.docker.internal\r\n",
      "     Tipo de Registro. . . . . . . . . . . . . : 1\r\n",
      "     Tempo de Vida . . . . . . . . . . . . . . : 593912\r\n",
      "     Comprimento dos Dados . . . . . . . . . . : 4\r\n",
      "    Seção. . . . . . . . . . . . . . . . . . . : Resposta\r\n",
      "    Registro (Host). . . . . . . . . . . . . . : 192.168.0.221\r\n",
      "\r\n",
      "\r\n",
      "    desktop-qb02j8s.mshome.net\r\n",
      "    ----------------------------------------\r\n",
      "    Nenhum registro do tipo AAAA\r\n",
      "\r\n",
      "\r\n",
      "    desktop-qb02j8s.mshome.net\r\n",
      "    ----------------------------------------\r\n",
      "     Nome do Registro. . . . . . . . . . . . . : DESKTOP-QB02J8S.mshome.net\r\n",
      "     Tipo de Registro. . . . . . . . . . . . . : 1\r\n",
      "     Tempo de Vida . . . . . . . . . . . . . . : 593912\r\n",
      "     Comprimento dos Dados . . . . . . . . . . : 4\r\n",
      "    Seção. . . . . . . . . . . . . . . . . . . : Resposta\r\n",
      "    Registro (Host). . . . . . . . . . . . . . : 172.29.128.1\r\n",
      "\r\n",
      "\r\n",
      "    221.0.168.192.in-addr.arpa\r\n",
      "    ----------------------------------------\r\n",
      "     Nome do Registro. . . . . . . . . . . . . : 221.0.168.192.in-addr.arpa.\r\n",
      "     Tipo de Registro. . . . . . . . . . . . . : 12\r\n",
      "     Tempo de Vida . . . . . . . . . . . . . . : 593912\r\n",
      "     Comprimento dos Dados . . . . . . . . . . : 8\r\n",
      "    Seção. . . . . . . . . . . . . . . . . . . : Resposta\r\n",
      "    Registro PTR . . . . . . . . . . . . . . . : host.docker.internal\r\n",
      "\r\n",
      "\r\n",
      "     Nome do Registro. . . . . . . . . . . . . : 221.0.168.192.in-addr.arpa.\r\n",
      "     Tipo de Registro. . . . . . . . . . . . . : 12\r\n",
      "     Tempo de Vida . . . . . . . . . . . . . . : 593912\r\n",
      "     Comprimento dos Dados . . . . . . . . . . : 8\r\n",
      "    Seção. . . . . . . . . . . . . . . . . . . : Resposta\r\n",
      "    Registro PTR . . . . . . . . . . . . . . . : gateway.docker.internal\r\n",
      "\r\n",
      "\r\n",
      "    kubernetes.docker.internal\r\n",
      "    ----------------------------------------\r\n",
      "    Nenhum registro do tipo AAAA\r\n",
      "\r\n",
      "\r\n",
      "    kubernetes.docker.internal\r\n",
      "    ----------------------------------------\r\n",
      "     Nome do Registro. . . . . . . . . . . . . : kubernetes.docker.internal\r\n",
      "     Tipo de Registro. . . . . . . . . . . . . : 1\r\n",
      "     Tempo de Vida . . . . . . . . . . . . . . : 593912\r\n",
      "     Comprimento dos Dados . . . . . . . . . . : 4\r\n",
      "    Seção. . . . . . . . . . . . . . . . . . . : Resposta\r\n",
      "    Registro (Host). . . . . . . . . . . . . . : 127.0.0.1\r\n",
      "\r\n",
      "\r\n",
      "    host.docker.internal\r\n",
      "    ----------------------------------------\r\n",
      "    Nenhum registro do tipo AAAA\r\n",
      "\r\n",
      "\r\n",
      "    host.docker.internal\r\n",
      "    ----------------------------------------\r\n",
      "     Nome do Registro. . . . . . . . . . . . . : host.docker.internal\r\n",
      "     Tipo de Registro. . . . . . . . . . . . . : 1\r\n",
      "     Tempo de Vida . . . . . . . . . . . . . . : 593912\r\n",
      "     Comprimento dos Dados . . . . . . . . . . : 4\r\n",
      "    Seção. . . . . . . . . . . . . . . . . . . : Resposta\r\n",
      "    Registro (Host). . . . . . . . . . . . . . : 192.168.0.221\r\n",
      "\r\n",
      "\r\n",
      "    1.128.29.172.in-addr.arpa\r\n",
      "    ----------------------------------------\r\n",
      "     Nome do Registro. . . . . . . . . . . . . : 1.128.29.172.in-addr.arpa.\r\n",
      "     Tipo de Registro. . . . . . . . . . . . . : 12\r\n",
      "     Tempo de Vida . . . . . . . . . . . . . . : 593912\r\n",
      "     Comprimento dos Dados . . . . . . . . . . : 8\r\n",
      "    Seção. . . . . . . . . . . . . . . . . . . : Resposta\r\n",
      "    Registro PTR . . . . . . . . . . . . . . . : DESKTOP-QB02J8S.mshome.net\r\n",
      "\r\n",
      "\r\n",
      "\n"
     ]
    }
   ],
   "source": [
    "run_command(\"ipconfig /displaydns\")"
   ]
  },
  {
   "cell_type": "markdown",
   "source": [
    "Para se ter uma idéia de quão frequentes são as requisições, na figura abaixo são mostradas estatísticas de uma rede doméstica com 4 moradores ao longo de 90 dias.\n",
    "\n",
    "![](01_aplicacao_dns/adguard_query_statistics_aug-nov2022.PNG)\n",
    "\n",
    "Neste servidor de DNS local, também é possível observar as fontes das requisições de DNS, o domínios requisitados e também o bloqueio de domínios específicos.\n",
    "\n",
    "![](01_aplicacao_dns/adguard_query_record_google_analytics.PNG)\n",
    "\n",
    "[Adguard](https://adguard.com/en/adguard-home/overview.html) e [PiHole](https://pi-hole.net/) são projetos que oferecem servidores de DNS focados para usuários finais sem experiência de gerenciamento de registros de DNS."
   ],
   "metadata": {
    "collapsed": false
   }
  },
  {
   "cell_type": "markdown",
   "metadata": {},
   "source": [
    "E como esse DNS é configurado no servidor autoritativo? Podemos olhar um arquivo de configuração do servidor de DNS Bind9\n",
    "```\n",
    ";\n",
    "; BIND data file for the local loopback interface\n",
    ";\n",
    "$TTL    604800\n",
    "@       IN      SOA     atadomain.io. root.atadomain.io. (\n",
    "                            2         ; Serial\n",
    "                        604800        ; Refresh\n",
    "                        86400         ; Retry\n",
    "                        2419200       ; Expire\n",
    "                        604800 )      ; Negative Cache TTL\n",
    "\n",
    "; Define the default name server to ns1.atadomain.io\n",
    "@       IN      NS      ns1.atadomain.io.\n",
    "\n",
    "; Resolve ns1 to server IP address\n",
    "; A record for the main DNS\n",
    "ns1     IN      A       172.16.1.10\n",
    "\n",
    "\n",
    "; Define MX record for mail\n",
    "atadomain.io. IN   MX   10   mail.atadomain.io.\n",
    "\n",
    "\n",
    "; Other domains for atadomain.io\n",
    "; Create subdomain www - mail - vault\n",
    ";www     IN      A       172.16.1.10\n",
    "www     IN      CNAME           ns1\n",
    "mail    IN      A       172.16.1.20\n",
    "vault   IN      A       172.16.1.50\n",
    "\n",
    "\n",
    "; Reverse DNS or PTR Record for ns1.atadomain.io\n",
    "; Using the last number of DNS Server IP address: 172.16.1.10\n",
    "10      IN      PTR     ns1.atadomain.io.\n",
    "\n",
    "\n",
    "; Reverse DNS or PTR Record for mail.atadomain.io\n",
    "; Using the last block IP address: 172.16.1.20\n",
    "20      IN      PTR     mail.atadomain.io.\n",
    "```"
   ]
  },
  {
   "cell_type": "markdown",
   "source": [
    "Usando o Ubuntu, instale o servidor Bind9: `sudo apt install bind9`\n",
    "Após isto acesse `/etc/bind/named.conf.local` e indique o arquivo com as regras de DNS.\n",
    "`sudo nano /etc/bind/named.conf.local`\n",
    "\n",
    "```\n",
    "zone \"dominio-privado.io\" {\n",
    "    type master;\n",
    "    file \"dominio-privado.io.db\";\n",
    "    notify no;\n",
    "};\n",
    "```\n",
    "Depois de criar registro, cheque se as configurações estão corretas com o comando `sudo named-checkconf`.\n",
    "\n",
    "Agora altere `sudo nano /var/cache/bind/dominio-privado.io.db`.\n",
    "```\n",
    "$TTL    123456\n",
    "@       IN      SOA     dominio-privado.io. raiz.dominio-privado.io.(\n",
    "                            2         ; Serial\n",
    "                        123456        ; Refresh\n",
    "                        12345         ; Retry\n",
    "                        54321         ; Expire\n",
    "                        654321 )      ; Negative Cache TTL\n",
    "\n",
    "; Define the default name server\n",
    "@       IN      NS      ns.dominio-privado.io.\n",
    "\n",
    "; Resolve ns to server IP address\n",
    "; A record for the main DNS\n",
    "ns     IN      A       127.0.0.1; servidor de dns do domínio é o atual, olhe o IP com ifconfig\n",
    "; Cria subdominio web\n",
    "www     IN      CNAME          ns ; servidor web também é no servidor atual\n",
    "```\n",
    "Depois de criar registro, cheque se as configurações estão corretas com o comando\n",
    "`sudo named-checkzone dominio-privado.io /var/cache/bind/dominio-privado.io.db`.\n",
    "\n",
    "Reinicie o serviço do Bind9. `sudo systemctl restart named`.\n",
    "Cheque se ele está sendo executado. `sudo systemctl status named`\n",
    "\n",
    "Se estiver no WSLv2 e der o seguinte erro, siga as [instruções de como configurar o systemd](https://github.com/damionGans/ubuntu-wsl2-systemd-script).\n",
    "```\n",
    "System has not been booted with systemd as init system (PID 1). Can't operate.\n",
    "Failed to connect to bus: Host is down\n",
    "```\n",
    "\n",
    "Após configurarmos e reiniciarmos o serviço Bind9, devemos conseguir resolver os nomes do nosso domínio.\n",
    "```\n",
    "$ nslookup  ns.dominio-privado.io 127.0.0.1\n",
    "Server:         127.0.0.1\n",
    "Address:        127.0.0.1#53\n",
    "\n",
    "Name:   ns.dominio-privado.io\n",
    "Address: 127.0.0.1\n",
    "\n",
    "$ nslookup www.dominio-privado.io 127.0.0.1\n",
    "Server:         127.0.0.1\n",
    "Address:        127.0.0.1#53\n",
    "\n",
    "www.dominio-privado.io  canonical name = ns.dominio-privado.io.\n",
    "Name:   ns.dominio-privado.io\n",
    "Address: 127.0.0.1\n",
    "```"
   ],
   "metadata": {
    "collapsed": false
   }
  },
  {
   "cell_type": "code",
   "execution_count": 11,
   "metadata": {},
   "outputs": [],
   "source": []
  }
 ],
 "metadata": {
  "kernelspec": {
   "display_name": "Python 3 (ipykernel)",
   "language": "python",
   "name": "python3"
  },
  "language_info": {
   "codemirror_mode": {
    "name": "ipython",
    "version": 3
   },
   "file_extension": ".py",
   "mimetype": "text/x-python",
   "name": "python",
   "nbconvert_exporter": "python",
   "pygments_lexer": "ipython3",
   "version": "3.9.12"
  }
 },
 "nbformat": 4,
 "nbformat_minor": 1
}
