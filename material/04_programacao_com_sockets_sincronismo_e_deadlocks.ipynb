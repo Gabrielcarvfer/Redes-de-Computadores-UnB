{
 "cells": [
  {
   "cell_type": "markdown",
   "source": [
    "# Programação com sockets: sincronismo e deadlocks\n",
    "\n",
    "Se não sabe programar com sockets, comece por [Programação com sockets](./02_programacao_com_sockets.ipynb) e [Programação com sockets: protocolos de aplicação](./03_programacao_com_sockets_protocolos_de_aplicacao.ipynb).\n",
    "\n",
    "Se já sabe, vamos aprofundar o assunto.\n",
    "\n",
    "\n",
    "### Revisão sobre sockets\n",
    "\n",
    "No diagrama abaixo temos uma sequência mais acurada dos eventos ocorridos para que dois programas utilizando sockets TCP se comuniquem entre si.\n",
    "\n",
    "Juntando ambos os diagramas, temos a visão geral do seguinte:\n",
    " - a configuração dos sockets do servidor e cliente\n",
    " - aguardo do servidor por conexões\n",
    " - a abertura da conexão pelo cliente no servidor\n",
    "   - note que o three-way handshake é feito entre camada de transporte TCP de origem e destino\n",
    "   - como ambas as aplicações estão em um mesmo servidor, sua pilha de rede é compartilhada\n",
    " - o envio de uma requisição do cliente para o servidor\n",
    " - a resposta do servidor à requisição do cliente\n",
    "\n",
    "Note as barras em laranja no cliente e servidor. Elas indicam os momentos em que ambas as aplicações estão BLOQUEADAS.\n",
    "Ou seja, esperando alguma resposta vinda do sistema operacional.\n",
    "\n",
    "[![](https://mermaid.ink/img/pako:eNqtVdtO4zAQ_RXLT6xUuu-RFqkbQEKIi0hfVoqEBnugVhs7azvdRYiv4QHxAXxBf4xJ44b0ktIAeYlvOXPmzJn4gQsjkUfc4d8CtcBDBXcWslQzehK0UyWN3T84SJTzmAG7yNGCUEbDJGLOiDH68hTaPgiBud_70WODuwKsBJYby4TR-H_2iq5CBOHVFDzW0NVyPFGoPW6PEw6xX2Her157YTY4vj45Pxr2FrvJRXx6nQyvjgZnxMlSfsopD2F7hU7ADmmvcyBm4UjErlDgDS7hSNyM1CWvPkmlUZCC3bltRB-OLOL-P7hnI9DSjWBMsv85_y6cn4P49Fuwapw2FVvwg4MidqKlEovCXoKFhVNyGpMDs0LT_ux59mTKGRNN8EbQZU_uZv5GuL5FMS39_3tiqJkUMQoQDF35pZZm4cM5mR1bojZebAlzHaCTyRxqucQxiMHAz17Kbr1VNgtazemS11VGJ2iK29h36aAPK94ppTXZ65Sq_1Alu8uNo-6nsVvS-XOWi02-UovKbG2mYEi5uptVY3SwYB360hqBzm1yQnfLfsUOUKu61cgfSbnJDLsgvLdFqEWocKMOW2vQ9hdoMWIdrqF_M_tU8x7PkNRSku7Th3I15X6EGaY8oqEEO055qh_pHBTeJPda8MjbAnu8yCWFDncvj25h4mgVpfLGnlUX9PyefnwDwBbC-A?type=png)](https://mermaid.live/edit#pako:eNqtVdtO4zAQ_RXLT6xUuu-RFqkbQEKIi0hfVoqEBnugVhs7azvdRYiv4QHxAXxBf4xJ44b0ktIAeYlvOXPmzJn4gQsjkUfc4d8CtcBDBXcWslQzehK0UyWN3T84SJTzmAG7yNGCUEbDJGLOiDH68hTaPgiBud_70WODuwKsBJYby4TR-H_2iq5CBOHVFDzW0NVyPFGoPW6PEw6xX2Her157YTY4vj45Pxr2FrvJRXx6nQyvjgZnxMlSfsopD2F7hU7ADmmvcyBm4UjErlDgDS7hSNyM1CWvPkmlUZCC3bltRB-OLOL-P7hnI9DSjWBMsv85_y6cn4P49Fuwapw2FVvwg4MidqKlEovCXoKFhVNyGpMDs0LT_ux59mTKGRNN8EbQZU_uZv5GuL5FMS39_3tiqJkUMQoQDF35pZZm4cM5mR1bojZebAlzHaCTyRxqucQxiMHAz17Kbr1VNgtazemS11VGJ2iK29h36aAPK94ppTXZ65Sq_1Alu8uNo-6nsVvS-XOWi02-UovKbG2mYEi5uptVY3SwYB360hqBzm1yQnfLfsUOUKu61cgfSbnJDLsgvLdFqEWocKMOW2vQ9hdoMWIdrqF_M_tU8x7PkNRSku7Th3I15X6EGaY8oqEEO055qh_pHBTeJPda8MjbAnu8yCWFDncvj25h4mgVpfLGnlUX9PyefnwDwBbC-A)\n",
    "\n",
    "Agora que vejamos alguns dos problemas que podem ocorrer na programação por sockets."
   ],
   "metadata": {
    "collapsed": false
   }
  },
  {
   "cell_type": "markdown",
   "source": [
    "### Sincronismo e deadlocks\n",
    "\n",
    "Por padrão, os sockets são blocantes.\n",
    "\n",
    "Mas o que isto significa? Significa que a thread onde executam permenece bloqueada enquanto uma requisição não é completa.\n",
    "\n",
    "O diagrama acima mostra o tempo bloqueado com as barras laranjas sobreposta as colunas referentes ao servidor e ao cliente.\n",
    "\n",
    "Como também pode ser observado no diagrama, estes bloqueios impõem um sincronismo entre as aplicações.\n",
    "\n",
    "Este sincronismo, por sua vez, pode causar problemas. Um problema típico é o de deadlock.\n",
    "\n",
    "Um deadlock ocorre quando dois agentes concorrentes tentam obter controle exclusivo sobre um recurso compartilhado."
   ],
   "metadata": {
    "collapsed": false
   }
  },
  {
   "cell_type": "markdown",
   "source": [
    "Para testarmos estes casos, utilizaremos o seguinte lançador do servidor e do cliente:"
   ],
   "metadata": {
    "collapsed": false
   }
  },
  {
   "cell_type": "code",
   "execution_count": 1,
   "outputs": [],
   "source": [
    "import socket\n",
    "import time\n",
    "from concurrent.futures import ThreadPoolExecutor\n",
    "\n",
    "\n",
    "def lancador_cliente_servidor(cliente, servidor, cliente2=None):\n",
    "    thread_pool = ThreadPoolExecutor()\n",
    "    # Inicia servidor e cliente em threads separadas\n",
    "    thread_pool.submit(servidor)\n",
    "    thread_pool.submit(cliente)\n",
    "    if cliente2:\n",
    "        thread_pool.submit(cliente2)\n",
    "    # Dá 10 segundos para cliente e servidor se comunicarem\n",
    "    time.sleep(15)\n",
    "    # Mata cliente e servidor\n",
    "    thread_pool.shutdown(wait=False, cancel_futures=True)\n",
    "\n",
    "\n",
    "def socket_servidor(porta):\n",
    "    socket_serv = socket.socket(socket.AF_INET, socket.SOCK_STREAM)\n",
    "    socket_serv.bind((\"127.0.0.1\", porta))\n",
    "    socket_serv.listen(2)\n",
    "    return socket_serv\n",
    "\n",
    "\n",
    "def socket_cliente():\n",
    "    socket_cli = socket.socket(socket.AF_INET, socket.SOCK_STREAM)\n",
    "    return socket_cli"
   ],
   "metadata": {
    "collapsed": false
   }
  },
  {
   "cell_type": "markdown",
   "source": [
    "Quando tratamos de sockets, o deadlock se apresenta de diversas maneiras.\n",
    "Tipicamente quando são feitas esperas (`socket.recv()` ou `socket.accept()`) em uma ordem incorreta.\n",
    "\n",
    "[![](https://mermaid.ink/img/pako:eNp9kbFOAzEMhl8l8gTSwQNk6ACsCKRbs1iJAauX-OrkTkJVn4aBB-mLkZKoKkPJ5Py2_8-y9-AlEFjItFsoeXpifFeMLpn6RtKVg-jdZjNyLhTRvMyk6FkSTtZk8Vsqr6j4ODGlQvdKfr25HczDJNWP0eRuYSifOlMQoxXFmY_fxy9pHPSFVyx0Bja5m_5Pv0oW41vqAo0VnmfJBU395T-08xDdsamBrgx3kegNMEAkjcih7nN_qnJQPiiSA1vDgLp14NKh1uFSZPxMHmzRhQZY5lCN-u7BvuGUq0qBi-hzO9DvnQ4_05-ZqQ?type=png)](https://mermaid.live/edit#pako:eNp9kbFOAzEMhl8l8gTSwQNk6ACsCKRbs1iJAauX-OrkTkJVn4aBB-mLkZKoKkPJ5Py2_8-y9-AlEFjItFsoeXpifFeMLpn6RtKVg-jdZjNyLhTRvMyk6FkSTtZk8Vsqr6j4ODGlQvdKfr25HczDJNWP0eRuYSifOlMQoxXFmY_fxy9pHPSFVyx0Bja5m_5Pv0oW41vqAo0VnmfJBU395T-08xDdsamBrgx3kegNMEAkjcih7nN_qnJQPiiSA1vDgLp14NKh1uFSZPxMHmzRhQZY5lCN-u7BvuGUq0qBi-hzO9DvnQ4_05-ZqQ)\n"
   ],
   "metadata": {
    "collapsed": false
   }
  },
  {
   "cell_type": "code",
   "execution_count": 2,
   "outputs": [
    {
     "name": "stdout",
     "output_type": "stream",
     "text": [
      "Servidor sendo bloqueado: accept\n",
      "Cliente sendo bloqueado: connect\n",
      "Cliente sendo desbloqueado: connect\n",
      "Cliente sendo bloqueado: recv\n",
      "Servidor sendo desbloqueado: accept\n",
      "Servidor sendo bloqueado: recv\n"
     ]
    }
   ],
   "source": [
    "def servidor_blocante():\n",
    "    sock = socket_servidor(8001)\n",
    "    print(\"Servidor sendo bloqueado: accept\")\n",
    "    (socketParaCliente, enderecoCliente) = sock.accept()\n",
    "    print(\"Servidor sendo desbloqueado: accept\")\n",
    "    print(\"Servidor sendo bloqueado: recv\")\n",
    "    socketParaCliente.recv(500)\n",
    "    print(\"Servidor sendo desbloqueado: recv\")\n",
    "    sock.close()\n",
    "\n",
    "\n",
    "def cliente_blocante():\n",
    "    sock = socket_cliente()\n",
    "    time.sleep(2)  # dar tempo para o servidor ser iniciado\n",
    "    print(\"Cliente sendo bloqueado: connect\")\n",
    "    sock.connect((\"127.0.0.1\", 8001))\n",
    "    print(\"Cliente sendo desbloqueado: connect\")\n",
    "    print(\"Cliente sendo bloqueado: recv\")\n",
    "    sock.recv(500)\n",
    "    print(\"Cliente sendo desbloqueado: recv\")\n",
    "    sock.close()\n",
    "\n",
    "\n",
    "lancador_cliente_servidor(cliente_blocante, servidor_blocante)"
   ],
   "metadata": {
    "collapsed": false
   }
  },
  {
   "cell_type": "markdown",
   "source": [
    "Como se pode observar, ambos ficaram bloqueados aguardando a resposta um do outro.\n",
    "\n",
    "O mesmo pode acontecer com accept e recv.\n",
    "[![](https://mermaid.ink/img/pako:eNp9UTFOxEAM_MrKFUjhHpDiCqBFFNemsbxzYF2yDrubCHS611DwAl6Qj7EhAR1IsJV3Zjxj2UcS86CaEp4GBMGt8kPkrgmuvB3iqN7i1Xa705TRsbvvEVnUAre1SyYH5C_VhkXQ54vLyl23VuyUXVo5hzQ3Bm-uLz-xgOfpHWnJYck6csZ34ALftIqQ8X_6KtpEyPgj2pws1Fk2z8l7jR1Pb9OruQIhjGq_xlg9F9Tjj_HOiLWBKupQzNWXjR5nVUP5ER0aqkvpOR4aasKp6HjItnsJQnWOAyoael-M1u1Tvec2FRRes8W75USflzp9ACCOmtw?type=png)](https://mermaid.live/edit#pako:eNp9UTFOxEAM_MrKFUjhHpDiCqBFFNemsbxzYF2yDrubCHS611DwAl6Qj7EhAR1IsJV3Zjxj2UcS86CaEp4GBMGt8kPkrgmuvB3iqN7i1Xa705TRsbvvEVnUAre1SyYH5C_VhkXQ54vLyl23VuyUXVo5hzQ3Bm-uLz-xgOfpHWnJYck6csZ34ALftIqQ8X_6KtpEyPgj2pws1Fk2z8l7jR1Pb9OruQIhjGq_xlg9F9Tjj_HOiLWBKupQzNWXjR5nVUP5ER0aqkvpOR4aasKp6HjItnsJQnWOAyoael-M1u1Tvec2FRRes8W75USflzp9ACCOmtw)\n"
   ],
   "metadata": {
    "collapsed": false
   }
  },
  {
   "cell_type": "code",
   "execution_count": 3,
   "outputs": [
    {
     "name": "stdout",
     "output_type": "stream",
     "text": [
      "Servidor sendo bloqueado: accept\n",
      "Cliente sendo bloqueado: connect\n",
      "Cliente sendo desbloqueado: connect\n",
      "Cliente sendo bloqueado: recv\n",
      "Servidor sendo desbloqueado: accept\n",
      "Servidor sendo bloqueado: accept\n",
      "Cliente sendo desbloqueado: recv\n"
     ]
    }
   ],
   "source": [
    "def servidor_blocante2():\n",
    "    sock = socket_servidor(8002)\n",
    "    print(\"Servidor sendo bloqueado: accept\")\n",
    "    (socketParaCliente, enderecoCliente) = sock.accept()\n",
    "    print(\"Servidor sendo desbloqueado: accept\")\n",
    "    socketParaCliente.close()\n",
    "    print(\"Servidor sendo bloqueado: accept\")\n",
    "    (socketParaCliente, enderecoCliente) = sock.accept()\n",
    "    print(\"Servidor sendo desbloqueado: accept\")\n",
    "    sock.close()\n",
    "\n",
    "\n",
    "def cliente_blocante2():\n",
    "    sock = socket_cliente()\n",
    "    time.sleep(2)  # dar tempo para o servidor ser iniciado\n",
    "    print(\"Cliente sendo bloqueado: connect\")\n",
    "    sock.connect((\"127.0.0.1\", 8002))\n",
    "    print(\"Cliente sendo desbloqueado: connect\")\n",
    "    print(\"Cliente sendo bloqueado: recv\")\n",
    "    sock.recv(500)\n",
    "    print(\"Cliente sendo desbloqueado: recv\")\n",
    "    sock.close()\n",
    "\n",
    "\n",
    "lancador_cliente_servidor(cliente_blocante2, servidor_blocante2)"
   ],
   "metadata": {
    "collapsed": false
   }
  },
  {
   "cell_type": "markdown",
   "source": [
    "Este é um problema relativalmente comum para programadores iniciantes.\n",
    "Ocorre quando tentam expandir o número de clientes conectados simultâneamente a um servidor.\n",
    "\n",
    "Pior, o deadlock pode se propagar para outros clientes.\n",
    "\n",
    "[![](https://mermaid.ink/img/pako:eNqNkTGLAkEMhf_KkkrBs9hyCpuzPU7Ydpow87wb3JnRbHZBxP_u6C6CnOilCi8vHyTvRC57kKEOhx7JYR34RzjaVJVqIEPwWT5WqyZ0isjV9x7CLuTEram67HbQDQt_tgFJUS8FbpjNx3V2GgZW3DmjPHlfQyfTc940fMDV_-LVL4H1KHu8Hzye9HeDFhQhkYMvzz1dXZb0FxGWTGk9y86STefi415zc0yOjEqPBfV7X0BTEGS23HZFhQ-a5WtM6xba-QKor5mH?type=png)](https://mermaid.live/edit#pako:eNqNkTGLAkEMhf_KkkrBs9hyCpuzPU7Ydpow87wb3JnRbHZBxP_u6C6CnOilCi8vHyTvRC57kKEOhx7JYR34RzjaVJVqIEPwWT5WqyZ0isjV9x7CLuTEram67HbQDQt_tgFJUS8FbpjNx3V2GgZW3DmjPHlfQyfTc940fMDV_-LVL4H1KHu8Hzye9HeDFhQhkYMvzz1dXZb0FxGWTGk9y86STefi415zc0yOjEqPBfV7X0BTEGS23HZFhQ-a5WtM6xba-QKor5mH)\n"
   ],
   "metadata": {
    "collapsed": false
   }
  },
  {
   "cell_type": "code",
   "execution_count": 4,
   "outputs": [
    {
     "name": "stdout",
     "output_type": "stream",
     "text": [
      "Servidor sendo bloqueado: accept\n",
      "Cliente 2 sendo bloqueado: connect\n",
      "Servidor sendo desbloqueado: accept\n",
      "Servidor sendo bloqueado: recv\n",
      "Cliente  sendo bloqueado: connect\n",
      "Cliente 2 sendo desbloqueado: connect\n",
      "Cliente 2 sendo bloqueado: recv\n",
      "Cliente  sendo desbloqueado: connect\n",
      "Cliente  sendo bloqueado: recv\n"
     ]
    }
   ],
   "source": [
    "def servidor_blocante3():\n",
    "    sock = socket_servidor(8003)\n",
    "    for i in range(2):\n",
    "        print(\"Servidor sendo bloqueado: accept\")\n",
    "        (socketParaCliente, enderecoCliente) = sock.accept()\n",
    "        print(\"Servidor sendo desbloqueado: accept\")\n",
    "        print(\"Servidor sendo bloqueado: recv\")\n",
    "        socketParaCliente.recv(500)\n",
    "        print(\"Servidor sendo desbloqueado: recv\")\n",
    "    sock.close()\n",
    "\n",
    "\n",
    "def cliente_blocante3(id):\n",
    "    sock = socket_cliente()\n",
    "    time.sleep(2)  # dar tempo para o servidor ser iniciado\n",
    "    print(f\"Cliente {id} sendo bloqueado: connect\")\n",
    "    sock.connect((\"127.0.0.1\", 8003))\n",
    "    print(f\"Cliente {id} sendo desbloqueado: connect\")\n",
    "    print(f\"Cliente {id} sendo bloqueado: recv\")\n",
    "    sock.recv(500)\n",
    "    print(f\"Cliente {id} sendo desbloqueado: recv\")\n",
    "    sock.close()\n",
    "\n",
    "\n",
    "from functools import partial\n",
    "\n",
    "lancador_cliente_servidor(partial(cliente_blocante3, \"\"), servidor_blocante3, partial(cliente_blocante3, \"2\"))"
   ],
   "metadata": {
    "collapsed": false
   }
  },
  {
   "cell_type": "markdown",
   "source": [
    "Como lidar com este tipo de problema?\n",
    "\n",
    "A solução típica é separar estas chamadas blocantes em threads distintas."
   ],
   "metadata": {
    "collapsed": false
   }
  },
  {
   "cell_type": "code",
   "execution_count": 5,
   "outputs": [
    {
     "name": "stdout",
     "output_type": "stream",
     "text": [
      "Servidor sendo bloqueado: accept\n",
      "Cliente 2 sendo bloqueado: connect\n",
      "Cliente  sendo bloqueado: connect\n",
      "Cliente 2 sendo desbloqueado: connect\n",
      "Cliente 2 sendo bloqueado: send\n",
      "Servidor sendo desbloqueado: accept\n",
      "Servidor sendo bloqueado: recv\n",
      "Servidor sendo desbloqueado: recv\n",
      "Servidor sendo bloqueado: send\n",
      "Cliente 2 sendo desbloqueado: send\n",
      "Cliente 2 sendo bloqueado: recv\n",
      "Cliente 2 sendo desbloqueado: recv\n",
      "Servidor sendo bloqueado: send\n",
      "Servidor sendo bloqueado: recv\n",
      "Cliente  sendo desbloqueado: connect\n",
      "Cliente  sendo bloqueado: recv\n",
      "Servidor sendo desbloqueado: recv\n",
      "Servidor sendo bloqueado: send\n",
      "Servidor sendo bloqueado: send\n",
      "Servidor sendo bloqueado: recv\n",
      "Servidor sendo desbloqueado: recv\n",
      "Servidor sendo bloqueado: send\n",
      "Servidor sendo bloqueado: send\n"
     ]
    }
   ],
   "source": [
    "from threading import Thread\n",
    "\n",
    "\n",
    "def cliente_blocante4(id, porta=8004):\n",
    "    sock = socket_cliente()\n",
    "    time.sleep(4)  # dar tempo para o servidor ser iniciado\n",
    "    print(f\"Cliente {id} sendo bloqueado: connect\")\n",
    "    sock.connect((\"127.0.0.1\", porta))\n",
    "    print(f\"Cliente {id} sendo desbloqueado: connect\")\n",
    "    print(f\"Cliente {id} sendo bloqueado: recv\")\n",
    "    sock.recv(500)\n",
    "    print(f\"Cliente {id} sendo desbloqueado: recv\")\n",
    "    sock.close()\n",
    "\n",
    "\n",
    "def cliente_blocante4_2(id, porta=8004):\n",
    "    sock = socket_cliente()\n",
    "    time.sleep(4)  # dar tempo para o servidor ser iniciado\n",
    "    print(f\"Cliente {id} sendo bloqueado: connect\")\n",
    "    sock.connect((\"127.0.0.1\", porta))\n",
    "    print(f\"Cliente {id} sendo desbloqueado: connect\")\n",
    "    print(f\"Cliente {id} sendo bloqueado: send\")\n",
    "    sock.send(bytes(\"pindamonhangaba\", \"utf-8\"))\n",
    "    print(f\"Cliente {id} sendo desbloqueado: send\")\n",
    "    print(f\"Cliente {id} sendo bloqueado: recv\")\n",
    "    sock.recv(500)\n",
    "    print(f\"Cliente {id} sendo desbloqueado: recv\")\n",
    "    sock.close()\n",
    "\n",
    "\n",
    "class servidor_blocante4:\n",
    "    def __init__(self, endereco_servidor=\"0.0.0.0\", porta_servidor=8004, max_conexoes=1):\n",
    "        # Procedimento de criação do socket e configuração\n",
    "        self.socket = socket.socket(socket.AF_INET, socket.SOCK_STREAM)\n",
    "        self.socket.bind((endereco_servidor, porta_servidor))\n",
    "        self.socket.listen(max_conexoes)\n",
    "\n",
    "        # Inicia uma thread dedicada para escuta de novas conexões\n",
    "        self.threadEscuta = Thread(target=self.implementacaoThreadEscuta)\n",
    "        self.threadEscuta.run()\n",
    "        self.threadClientes = []\n",
    "\n",
    "    def implementacaoThreadCliente(self, enderecoDoCliente, socketParaCliente):\n",
    "        max_messages = 3\n",
    "        while max_messages > 0:\n",
    "            print(\"Servidor sendo bloqueado: recv\")\n",
    "            mensagem = socketParaCliente.recv(512)\n",
    "            print(\"Servidor sendo desbloqueado: recv\")\n",
    "            print(\"Servidor sendo bloqueado: send\")\n",
    "            socketParaCliente.send(mensagem)\n",
    "            print(\"Servidor sendo bloqueado: send\")\n",
    "            max_messages -= 1\n",
    "\n",
    "    def implementacaoThreadEscuta(self):\n",
    "        while True:\n",
    "            # Thread fica bloqueada enquanto aguarda por conexões,\n",
    "            # enquanto servidor continua rodando normalmente\n",
    "            print(\"Servidor sendo bloqueado: accept\")\n",
    "            (socketParaCliente, enderecoDoCliente) = self.socket.accept()\n",
    "            print(\"Servidor sendo desbloqueado: accept\")\n",
    "            novaThread = Thread(target=self.implementacaoThreadCliente,\n",
    "                                args=(enderecoDoCliente, socketParaCliente),\n",
    "                                daemon=True)  # thread sem necessidade de join, será morta ao final do processo\n",
    "            novaThread.run()  # inicia thread de atendimento ao novo cliente conectado\n",
    "            self.threadClientes.append(novaThread)\n",
    "\n",
    "\n",
    "lancador_cliente_servidor(partial(cliente_blocante4, \"\", 8004),\n",
    "                          partial(servidor_blocante4, porta_servidor=8004),\n",
    "                          partial(cliente_blocante4_2, \"2\", 8004))"
   ],
   "metadata": {
    "collapsed": false
   }
  },
  {
   "cell_type": "markdown",
   "source": [
    "Existe outra alternativa invés de ficar brigando com a ordenação e arriscar entrar em deadlock.\n",
    "\n",
    "Podem ser configurados timeouts, onde uma condição de erro é disparada e o programador reassume controle do programa."
   ],
   "metadata": {
    "collapsed": false
   }
  },
  {
   "cell_type": "code",
   "execution_count": 6,
   "outputs": [
    {
     "name": "stdout",
     "output_type": "stream",
     "text": [
      "Servidor sendo bloqueado: accept\n",
      "Cliente sendo bloqueado: connect\n",
      "Cliente sendo desbloqueado: connect\n",
      "Cliente sendo bloqueado: recv\n",
      "Servidor sendo desbloqueado: accept\n",
      "Servidor sendo bloqueado: recv\n",
      "Cliente sendo desbloqueado devido a timeout: recvServidor sendo desbloqueado devido a timeout: recv\n",
      "Servidor sendo bloqueado: recv\n",
      "\n",
      "Cliente sendo desbloqueado: recv\n",
      "Servidor sendo desbloqueado: recv\n"
     ]
    }
   ],
   "source": [
    "def servidor_blocante6():\n",
    "    sock = socket_servidor(8006)\n",
    "    sock.settimeout(3)  # 3 segundos\n",
    "    socketParaCliente = None\n",
    "    enderecoCliente = None\n",
    "    retries = 3\n",
    "    while retries > 0:\n",
    "        print(\"Servidor sendo bloqueado: accept\")\n",
    "        try:\n",
    "            (socketParaCliente, enderecoCliente) = sock.accept()\n",
    "            break\n",
    "        except TimeoutError:\n",
    "            print(\"Servidor sendo desbloqueado devido a timeout: accept\")\n",
    "            retries -= 1\n",
    "    print(\"Servidor sendo desbloqueado: accept\")\n",
    "    socketParaCliente.settimeout(3)  # 3 segundos\n",
    "    retries = 3\n",
    "    while retries > 0:\n",
    "        print(\"Servidor sendo bloqueado: recv\")\n",
    "        try:\n",
    "            socketParaCliente.recv(500)\n",
    "            break\n",
    "        except TimeoutError:\n",
    "            print(\"Servidor sendo desbloqueado devido a timeout: recv\")\n",
    "            retries -= 1\n",
    "    print(\"Servidor sendo desbloqueado: recv\")\n",
    "    sock.close()\n",
    "\n",
    "\n",
    "def cliente_blocante6():\n",
    "    sock = socket_cliente()\n",
    "    sock.settimeout(3)  # 3 segundos\n",
    "    time.sleep(2)  # dar tempo para o servidor ser iniciado\n",
    "    print(\"Cliente sendo bloqueado: connect\")\n",
    "    sock.connect((\"127.0.0.1\", 8006))\n",
    "    print(\"Cliente sendo desbloqueado: connect\")\n",
    "    retries = 3\n",
    "    while retries >= 3:\n",
    "        print(\"Cliente sendo bloqueado: recv\")\n",
    "        try:\n",
    "            sock.recv(500)\n",
    "            break\n",
    "        except TimeoutError:\n",
    "            print(\"Cliente sendo desbloqueado devido a timeout: recv\")\n",
    "            time.sleep(1)\n",
    "            retries -= 1\n",
    "    print(\"Cliente sendo desbloqueado: recv\")\n",
    "    sock.close()\n",
    "\n",
    "\n",
    "lancador_cliente_servidor(cliente_blocante6, servidor_blocante6)"
   ],
   "metadata": {
    "collapsed": false
   }
  },
  {
   "cell_type": "markdown",
   "source": [
    "Outra opção é o uso de sockets não blocantes.\n",
    "\n",
    "Ao invés de o processo que quer receber uma mensagem ficar bloqueado e ser acordado pelo sistema operacional para processar a mensagem (interrupção),\n",
    "o processo fica acordado e pergunta para o sistema operacional se já chegou alguma mensagem (polling).\n",
    "\n",
    "[![](https://mermaid.ink/img/pako:eNqtkjFOAzEURK9iuQJpyQFcpIEWEbHtNj_27K6VtR2-7ZUgymEQR8nFcFgrFKA0YLmwvp9m_khzkDoYSCUjXjK8xoOlgcl1XpTTgmdrAt-t162NCY7E0x5M2gZPkxIx6B3ShpjuJwufsLIMPd_cNmIDHrJPJCLEeHoXDj7SACcKgK01tDiQTnamhItVNf7pdt6hMko8IwX2JHJhLsrlbnPfg1dFTfjTRxBjyDO4-WZmerO0WkwMfnFfvmqc67n_nLkKXItckf9PXIVlIx3YkTWlA4cz1ck0wqGTqjwN8a6TnT8WjnIK7avXUiXOaGTemyJU-yJVT1MsUxhbFn1cSvXVreMn_I3Y_g?type=png)](https://mermaid.live/edit#pako:eNqtkjFOAzEURK9iuQJpyQFcpIEWEbHtNj_27K6VtR2-7ZUgymEQR8nFcFgrFKA0YLmwvp9m_khzkDoYSCUjXjK8xoOlgcl1XpTTgmdrAt-t162NCY7E0x5M2gZPkxIx6B3ShpjuJwufsLIMPd_cNmIDHrJPJCLEeHoXDj7SACcKgK01tDiQTnamhItVNf7pdt6hMko8IwX2JHJhLsrlbnPfg1dFTfjTRxBjyDO4-WZmerO0WkwMfnFfvmqc67n_nLkKXItckf9PXIVlIx3YkTWlA4cz1ck0wqGTqjwN8a6TnT8WjnIK7avXUiXOaGTemyJU-yJVT1MsUxhbFn1cSvXVreMn_I3Y_g)\n"
   ],
   "metadata": {
    "collapsed": false
   }
  },
  {
   "cell_type": "code",
   "execution_count": 7,
   "outputs": [
    {
     "name": "stdout",
     "output_type": "stream",
     "text": [
      "Servidor aceitando conexão\n",
      "Cliente requisitando conexão\n",
      "Servidor aceitando conexão\n",
      "Servidor recebeu requisição de conexão de: ('127.0.0.1', 61472)\n",
      "Servidor tentando receber mensagem do cliente: ('127.0.0.1', 61472)\n"
     ]
    }
   ],
   "source": [
    "def servidorNaoBlocante():\n",
    "    sock = socket_servidor(8007)\n",
    "    sock.setblocking(False)\n",
    "    socketParaCliente = None\n",
    "    enderecoCliente = None\n",
    "    while enderecoCliente is None:\n",
    "        time.sleep(1)\n",
    "        print(\"Servidor aceitando conexão\")\n",
    "        try:\n",
    "            res = sock.accept()\n",
    "            (socketParaCliente, enderecoCliente) = res\n",
    "        except:\n",
    "            pass\n",
    "    print(\"Servidor recebeu requisição de conexão de:\", enderecoCliente)\n",
    "    msg = \"\"\n",
    "    retries = 3\n",
    "    while retries > 0 and len(msg) == 0:\n",
    "        print(\"Servidor tentando receber mensagem do cliente:\", enderecoCliente)\n",
    "        msg = socketParaCliente.recv(500)\n",
    "        retries -= 1\n",
    "    if retries == 0:\n",
    "        print(\"Servidor não recebeu nada\")\n",
    "    else:\n",
    "        print(\"Servidor recebeu:\", msg)\n",
    "    sock.close()\n",
    "\n",
    "\n",
    "def clienteNaoBlocante():\n",
    "    sock = socket_cliente()\n",
    "    sock.setblocking(False)\n",
    "    time.sleep(2)  # dar tempo para o servidor ser iniciado\n",
    "    print(\"Cliente requisitando conexão\")\n",
    "    sock.connect((\"127.0.0.1\", 8007))\n",
    "    print(\"Cliente conectado\")\n",
    "    msg = sock.recv(500)\n",
    "    print(\"Cliente recebeu:\", msg)\n",
    "    sock.close()\n",
    "\n",
    "\n",
    "lancador_cliente_servidor(clienteNaoBlocante, servidorNaoBlocante)"
   ],
   "metadata": {
    "collapsed": false
   }
  },
  {
   "cell_type": "markdown",
   "source": [
    "Este tipo de abordagem permite menor tempo de resposta em aplicações de alto desempenho/baixa latência, porém ao custo de desperdiçar tempo de CPU.\n",
    "\n",
    "[![](https://mermaid.ink/img/pako:eNrtlE1KAzEcxa8SslIYe4AsClJdiVic7Wz-Td5MQydJzceAlh7Gs3gxMzaOYKUIbkQMWYTw8t4vIbwdl06BCx7wkGAlrjR1nkxjWR41_KCV8xfzea1DhCF2t4UnqZ2lXrDg5AZxSZ4WvYaNmGkPOZydV2wJ3yUbiQWw9cszM7CBOhiWBVhpRYcEklEPFDFFleDjtJGhaAS7R3TeEktZMzkP9KRpdjBQ-ML5h5f6J_42ceE4DfwOG2DV-GWu7aA_oj6xF_Ep9CIR7HJxc0Q4nf91T5rnKrUt_F_6CLziBt6QVrlbdqOs4XENg4aLvFTkNw1v7D7rKEVXP1rJRfQJFU9blZ1KD3HRUh_yLpTOFLeHsnrrrP0rbNCrDg?type=png)](https://mermaid.live/edit#pako:eNrtlE1KAzEcxa8SslIYe4AsClJdiVic7Wz-Td5MQydJzceAlh7Gs3gxMzaOYKUIbkQMWYTw8t4vIbwdl06BCx7wkGAlrjR1nkxjWR41_KCV8xfzea1DhCF2t4UnqZ2lXrDg5AZxSZ4WvYaNmGkPOZydV2wJ3yUbiQWw9cszM7CBOhiWBVhpRYcEklEPFDFFleDjtJGhaAS7R3TeEktZMzkP9KRpdjBQ-ML5h5f6J_42ceE4DfwOG2DV-GWu7aA_oj6xF_Ep9CIR7HJxc0Q4nf91T5rnKrUt_F_6CLziBt6QVrlbdqOs4XENg4aLvFTkNw1v7D7rKEVXP1rJRfQJFU9blZ1KD3HRUh_yLpTOFLeHsnrrrP0rbNCrDg)"
   ],
   "metadata": {
    "collapsed": false
   }
  },
  {
   "cell_type": "code",
   "execution_count": 7,
   "outputs": [],
   "source": [],
   "metadata": {
    "collapsed": false
   }
  }
 ],
 "metadata": {
  "kernelspec": {
   "display_name": "Python 3",
   "language": "python",
   "name": "python3"
  },
  "language_info": {
   "codemirror_mode": {
    "name": "ipython",
    "version": 2
   },
   "file_extension": ".py",
   "mimetype": "text/x-python",
   "name": "python",
   "nbconvert_exporter": "python",
   "pygments_lexer": "ipython2",
   "version": "2.7.6"
  }
 },
 "nbformat": 4,
 "nbformat_minor": 0
}
