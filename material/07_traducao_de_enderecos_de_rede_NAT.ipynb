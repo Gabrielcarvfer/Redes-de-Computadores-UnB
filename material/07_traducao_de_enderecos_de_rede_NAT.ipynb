{
 "cells": [
  {
   "cell_type": "markdown",
   "metadata": {
    "collapsed": true
   },
   "source": [
    "Tradução de endereços de rede (NAT)\n",
    "==================================\n",
    "\n",
    "Como já vimos nas aulas, NAT (Network Address Translation) é um serviço utilizado para se reaproveitar endereços IPv4, que se tornaram escassos com o crescimento de número de dispositivos na internet.\n",
    "\n",
    "Os endereços são reaproveitados ao se configurar um único IPv4 público no gateway de uma rede privada, permitindo que seja alcançável na internet pública. Já na parte interna da rede, são reutilizados endereços de IP, que quando tentam enviar um pacote para fora da rede, são interceptados pelo gateway, tem seus campos de IP e porta de origem substituídos pelo IP público do NAT e uma porta disponível do gateway. O pacote modificado é então encaminhado para seu destino final.\n",
    "\n",
    "Mais detalhes em: https://www.ciscozine.com/nat-and-pat-a-complete-explanation/\n",
    "\n",
    "Checando a existência de um NAT\n",
    "-------------------------------\n",
    "\n",
    "Para identificar se estamos ou não atrás de um NAT, precisamos de um servidor externo que nos auxilie nesta tarefa. O que ele irá fazer é enviar uma resposta à nossa requisição com o endereço de IP de origem que ele recebeu, ou seja, nosso endereço de IP público.\n",
    "\n",
    "Quando fizer isto, o pacote de responsa enviado será recebido pelo gateway, o endereço IP e porta de destino serão modificados para o IP local de origem da requisição, que conterá o valor do IP público. \n",
    "\n",
    "Existe porém, o caso da nossa provedora de internet executar NAT sobre NAT.\n",
    "$sua\\ rede\\rightarrow gateway/modem\\ do\\ ISP\\ com\\ NAT\\rightarrow roteador\\ do\\ ISP\\ com\\ NAT$.\n",
    "\n",
    "Esse conjunto de procedimentos é parte do STUN (Session Traversal Utilities for NAT), definido nas [RFC 5389](https://www.ietf.org/rfc/rfc5389.txt) e [RFC 3489](https://www.ietf.org/rfc/rfc3489.txt).\n",
    "\n",
    "Existem diversas ferramentas para isso. Usaremos a biblioteca `stun` para python (`pip install pynat`).\n",
    "Também precisaremos de um servidor remoto rodando a aplicação de servidor do STUN. \n",
    "\n",
    "Existe uma lista de servidores públicos que podem ser utilizados em https://github.com/pradt2/always-online-stun.\n",
    "\n",
    "Usaremos o servidor STUN do Google."
   ]
  },
  {
   "cell_type": "code",
   "execution_count": 6,
   "metadata": {
    "ExecuteTime": {
     "start_time": "2023-04-23T17:04:37.625700Z",
     "end_time": "2023-04-23T17:04:37.758160Z"
    }
   },
   "outputs": [
    {
     "name": "stdout",
     "output_type": "stream",
     "text": [
      "NAT Type: Full-cone NAT\n",
      "Local->External IP: 192.168.0.114->189.6.16.145\n",
      "Local->External PORT: 8080->7619\n"
     ]
    }
   ],
   "source": [
    "import pynat\n",
    "\n",
    "local_port = 8080\n",
    "nat_type, external_ip, external_port, local_ip = pynat.get_ip_info(source_port=local_port,\n",
    "                                                        stun_host='stun.l.google.com', \n",
    "                                                        stun_port=19302,\n",
    "                                                        include_internal=True\n",
    "                                                        )\n",
    "\n",
    "print(f\"NAT Type: {nat_type}\")\n",
    "print(f\"Local->External IP: {local_ip}->{external_ip}\")\n",
    "print(f\"Local->External PORT: {local_port}->{external_port}\")"
   ]
  },
  {
   "cell_type": "markdown",
   "metadata": {},
   "source": [
    "Podemos ver nossos endereços público e privado, e a porta external para a qual o nosso tráfego do socket interno da porta 10000 foi modificado.\n",
    "\n",
    "Podemos ver que o nosso NAT também é do tipo \"Full cone\". Olhando na RFC 3489, vemos\n",
    "\n",
    "```\n",
    "Full Cone: A full cone NAT is one where all requests from the\n",
    "      same internal IP address and port are mapped to the same external\n",
    "      IP address and port.  Furthermore, any external host can send a\n",
    "      packet to the internal host, by sending a packet to the mapped\n",
    "      external address.\n",
    "```\n",
    "\n",
    "Traduzindo: o nosso tipo de NAT traduz o tráfego de uma mesma porta de um mesmo usuário externo para um endereço ip público e portas fixos. E também, que um dispositivo na internet pode alcançar um dispositivo interno da rede enviando um pacote para a porta pública associada.\n",
    "\n",
    "Quais são os diferentes tipos de NAT?\n",
    "-------------------------------------\n",
    "\n",
    "Olhando na RFC 3489, vemos que estão previstas quatro variantes:\n",
    "- Full Cone\n",
    "- Restricted Cone\n",
    "- Port Restricted Cone\n",
    "- Symmetric\n",
    "\n",
    "O seguinte diagrama ajuda a diferenciarmos umas das outras.\n",
    "\n",
    "![](07_traducao_de_enderecos_de_rede_NAT/nat_types_huawei.png)\n",
    "Fonte do diagrama e mais informações: https://info.support.huawei.com/info-finder/encyclopedia/en/NAT.html\n",
    "\n",
    "No Full Cone NAT, como já vimos, basta que o dispositivo local (PC1 no diagrama) abra uma conexão com um servidor remoto (PC2 no diagrama) para que se torne acessível na internet POR QUALQUER DISPOSITIVO (PC3 no diagrama) através da porta pública mapeada pelo NAT.\n",
    "\n",
    "No Restricted Cone NAT, apenas o IP e porta de origem (PC1 no diagrama) e o IP de destino (PC2 no diagrama) podem se comunicar. Neste caso, um dispositivo qualquer (PC3 no diagrama) só pode se conectar com o dispositivo local (PC1) caso este inicie uma transmissão primeiro. Este tipo de NAT é bastante restritivo caso ambos os dispositivos estejam atrás de NATs.\n",
    "\n",
    "No Port Restricted Cone NAT, o comportamento é o mesmo do Restricted Cone NAT, exceto que a porta do dispositivo externo (PC2 no diagrama) também é levada em conta. Ou seja, nem mesmo o servidor remoto (PC2 no diagrama) pode abrir um novo socket com um número de porta distinta e enviar pacotes para uma porta já aberta para o dispositivo local (PC1 no diagrama). Assim como no Restricted Cone NAT, um outro dispositivo qualquer (PC3 no diagrama) requer que o dispositivo local faça uma conexão antes de poderem se comunicar por cada uma das portas desejadas.\n",
    "\n",
    "No Symmetric NAT, o dispositivo local (PC1 no diagrama) ganha uma nova entrada no NAT para cada servidor remoto de destino (PC2 e PC4 no diagrama), sendo mapeado em diferentes portas externas. Assim como nos cones restritos, é necessário que o dispositivo local (PC1) inicie as conexões com os servidores remotos.\n",
    "\n",
    "Este último tipo de NAT é ainda mais restritivo que os cones restritos, pois inviabiliza hospedagem de serviços pelo dispositivo local (PC1). Exceto quando existem configurações próprias para fixação da porta, zona desmilitarizada (DMZ), ou que sejam utilizadas ferramentas para o estabelecimento de conexões interativas, todas elas soluções de como se transpor um NAT.\n",
    "\n",
    "Como transpor um NAT?\n",
    "------------------------------------\n",
    "\n",
    "Isto pode ser feito automaticamente, e tipicamente é. \n",
    "\n",
    "Uma aplicação local, por exemplo, pode se utilizar de requisições UPnP, definido na [RFC 6970](https://www.ietf.org/rfc/rfc6970.txt) para requisitar ao gateway que abra uma porta externa e mapeie seu tráfego para um dispositivo com IP e porta fixas do dispositivo.\n",
    "\n",
    "Caso o UPnP esteja desabilitado ([ALTAMENTE RECOMENDADO POR QUESTÕES DE SEGURANÇA](https://www.upguard.com/blog/what-is-upnp)), são utilizados uma série de procedimentos alternativos que compõem o ICE (Interactive Connectivity Establishment), definido na [RFC 8445](https://www.ietf.org/rfc/rfc8445.txt).\n",
    "\n",
    "No pior cenário possível, onde existe um NAT simétrico e não existem outras alternativas, são utilizados servidores TURN (Traversal Using Relays around NAT), definido na [RFC 8656](https://www.ietf.org/rfc/rfc8656.txt).\n",
    "\n",
    "Os servidores TURN funcionam como um NAT Full Cone remoto, permitindo que o seu endereço IP público e uma porta seja alocado para diversas conexões entre um dispositivo local (PC1), que se conecta com o servidor TURN através do seu NAT simétrico local, e dispositivos remotos (PC2, PC3, PC4).\n",
    "\n",
    "Este serviço é feito através do tunelamento (VPN) de tráfego, é intensivo em recursos para os servidores, também introduzindo latência ao serviço.\n",
    "\n",
    "O vídeo abaixo dá a idéia do funcionamento do ICE (1:41-13:28)."
   ]
  },
  {
   "cell_type": "code",
   "execution_count": 7,
   "metadata": {
    "ExecuteTime": {
     "start_time": "2023-04-23T17:04:37.762711Z",
     "end_time": "2023-04-23T17:04:37.767281Z"
    }
   },
   "outputs": [
    {
     "data": {
      "text/plain": "<IPython.core.display.HTML object>",
      "text/html": "<iframe id=\"ytplayer\" type=\"text/html\" width=\"640\" height=\"360\"\n  src=\"http://www.youtube.com/embed/MEupfrmigbA?autoplay=1&start=104&end=783\"\n  frameborder=\"0\"\n  />\n"
     },
     "metadata": {},
     "output_type": "display_data"
    }
   ],
   "source": [
    "%%html\n",
    "<iframe id=\"ytplayer\" type=\"text/html\" width=\"640\" height=\"360\"\n",
    "  src=\"http://www.youtube.com/embed/MEupfrmigbA?autoplay=1&start=104&end=783\"\n",
    "  frameborder=\"0\"\n",
    "  />"
   ]
  }
 ],
 "metadata": {
  "kernelspec": {
   "display_name": "Python 3 (ipykernel)",
   "language": "python",
   "name": "python3"
  },
  "language_info": {
   "codemirror_mode": {
    "name": "ipython",
    "version": 3
   },
   "file_extension": ".py",
   "mimetype": "text/x-python",
   "name": "python",
   "nbconvert_exporter": "python",
   "pygments_lexer": "ipython3",
   "version": "3.10.6"
  }
 },
 "nbformat": 4,
 "nbformat_minor": 1
}
