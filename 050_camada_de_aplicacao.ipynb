{
 "cells": [
  {
   "cell_type": "markdown",
   "source": [
    "# Camada de aplicações\n"
   ],
   "metadata": {
    "collapsed": false
   }
  },
  {
   "cell_type": "markdown",
   "source": [
    "Configuração inicial da topologia da rede"
   ],
   "metadata": {
    "collapsed": false
   }
  },
  {
   "cell_type": "code",
   "execution_count": 1,
   "outputs": [],
   "source": [
    "import sys\n",
    "sys.path.append(\"./ns-3-dev/build/bindings/python\")\n",
    "sys.path.append(\"./ns-3-dev/build/lib\")\n",
    "\n",
    "from ns import ns\n",
    "\n",
    "nodes = ns.network.NodeContainer()\n",
    "nodes.Create(2)\n",
    "\n",
    "pointToPoint = ns.point_to_point.PointToPointHelper()\n",
    "pointToPoint.SetDeviceAttribute(\"DataRate\", ns.core.StringValue(\"5Mbps\"))\n",
    "pointToPoint.SetChannelAttribute(\"Delay\", ns.core.StringValue(\"2ms\"))\n",
    "\n",
    "devices = pointToPoint.Install(nodes)\n",
    "\n",
    "stack = ns.internet.InternetStackHelper()\n",
    "stack.Install(nodes)\n",
    "\n",
    "address = ns.internet.Ipv4AddressHelper()\n",
    "address.SetBase(ns.network.Ipv4Address(\"10.1.1.0\"),\n",
    "                ns.network.Ipv4Mask(\"255.255.255.0\"))\n",
    "\n",
    "interfaces = address.Assign(devices)"
   ],
   "metadata": {
    "collapsed": false
   }
  },
  {
   "cell_type": "markdown",
   "source": [
    "Teremos uma rede com a seguinte topologia.\n",
    "\n",
    "[![](https://mermaid.ink/img/pako:eNqNkVFrwyAQx7-K3HM6tNAXGYOuHbTQhLDtZegebLy1smmCMQ-j9LtPZ2AJfZkHp_7vr_y4u0DTagQOJ6-6Mzk8S0fi6odjFqpYpUSkjdD3XExLG49NMK0jj69_6r6mYl9zwugdSzF5UK43VMQ0kerdGxUxjRI6LV2KGwA2ArB_ALApwHIOwG4B2Bwg6_m62a2r6ukgVqQ8dn1BlsT2ozOR3y8WD6Nl5k96-hgKsOitMjp295IsEsIZLUrg8aiV_5Qg3TX61BDal2_XAA9-wAKGTquAW6NiCyzwD_XVRxW1Ca0v87h-p3b9AWzrfFM?type=png)](https://mermaid.live/edit#pako:eNqNkVFrwyAQx7-K3HM6tNAXGYOuHbTQhLDtZegebLy1smmCMQ-j9LtPZ2AJfZkHp_7vr_y4u0DTagQOJ6-6Mzk8S0fi6odjFqpYpUSkjdD3XExLG49NMK0jj69_6r6mYl9zwugdSzF5UK43VMQ0kerdGxUxjRI6LV2KGwA2ArB_ALApwHIOwG4B2Bwg6_m62a2r6ukgVqQ8dn1BlsT2ozOR3y8WD6Nl5k96-hgKsOitMjp295IsEsIZLUrg8aiV_5Qg3TX61BDal2_XAA9-wAKGTquAW6NiCyzwD_XVRxW1Ca0v87h-p3b9AWzrfFM)\n",
    "\n"
   ],
   "metadata": {
    "collapsed": false
   }
  },
  {
   "cell_type": "markdown",
   "source": [
    "Como funcionam as aplicações? Como são implementadas?\n",
    "\n",
    "Aplicações são executadas em espaço de usuário, enquanto o resto da pilha de rede é executada pelo sistema operacional.\n",
    "\n",
    "[![](https://mermaid.ink/img/pako:eNqVk9FOgzAUhl-l6TUYinpD3BKcS0Z0SGS7MOBFB9WRQUvaYmKWPYxXPshezNOBhrkZJySlnP_vOYePnDXORM6wh18krZdodp1yBJdqFm0gBNVBiXkg56kV9wzzGOSxqun2QyAwzVWzfZeF6Hn9KHKSeV6Ps6UYlQXj2kOKyVcmg3pAnDMCt2t1oUhIPSDu-UUvAeP5kcq3pnJcKM0qiu5rJmlWCE7L3sHZgx_GbXEPScpzUaEaCvQsAchB5KGuD9KTpv7ISWDphaLJo5PA8ltz5lOvbDsW2Ypp2x52DbSGnfMIX9LxJcf5khP4ki--8Q6ih0rDhf8HJjkNJmlhGoroR-YAxB5Kdx8lOURJ_kBJDlGSb5Stq30dTfwwHN8ll2i6qJWFXFSpLq_5Y5Bm2Fn2_CZu2sAWrpisaJHDIKyNJcV6ySqWYg-2OZWrFKd8Az7aaBG_8Qx7WjbMwk2dU81uCgoYK-w901JBlOWFFnLaTtZuwDafL7H8OA?type=png)](https://mermaid.live/edit#pako:eNqVk9FOgzAUhl-l6TUYinpD3BKcS0Z0SGS7MOBFB9WRQUvaYmKWPYxXPshezNOBhrkZJySlnP_vOYePnDXORM6wh18krZdodp1yBJdqFm0gBNVBiXkg56kV9wzzGOSxqun2QyAwzVWzfZeF6Hn9KHKSeV6Ps6UYlQXj2kOKyVcmg3pAnDMCt2t1oUhIPSDu-UUvAeP5kcq3pnJcKM0qiu5rJmlWCE7L3sHZgx_GbXEPScpzUaEaCvQsAchB5KGuD9KTpv7ISWDphaLJo5PA8ltz5lOvbDsW2Ypp2x52DbSGnfMIX9LxJcf5khP4ki--8Q6ih0rDhf8HJjkNJmlhGoroR-YAxB5Kdx8lOURJ_kBJDlGSb5Stq30dTfwwHN8ll2i6qJWFXFSpLq_5Y5Bm2Fn2_CZu2sAWrpisaJHDIKyNJcV6ySqWYg-2OZWrFKd8Az7aaBG_8Qx7WjbMwk2dU81uCgoYK-w901JBlOWFFnLaTtZuwDafL7H8OA)\n",
    "\n",
    "A programação de aplicações que usam a rede é feita via \"sockets\", que chamam o sistema operacional e requisitam o envio de pacotes para um IP de destino.\n",
    "\n",
    "[![](https://mermaid.ink/img/pako:eNqNkTFOBDEMRa9iuR4ukGIlJCgRiKVMY5IPRDtJZj3JCrTa01BwkL0YYUYLU1BMKiv2-_bXP7LLHmx4xL4iOdwEeVWJNlF710MfnJy_zp_5arPZhrEgCt0PUHEhJ-kNPcCDxux2KDPzz1RjF0qGHuHwfKEoV4JqnmnpC-nUXv6uvOUJqQilfJDYKkzKzZKqEN7h6gTPiuhH_C5anr9y1W06BKFBXC74A9d7X5JI3ibuOEKjBN_COP40LJc3RFg2rfSiO8s2ndqc1JK3H8mxKVrRcR28lEtwbF6keesYPpSsd3O6U8inbyw6r-w?type=png)](https://mermaid.live/edit#pako:eNqNkTFOBDEMRa9iuR4ukGIlJCgRiKVMY5IPRDtJZj3JCrTa01BwkL0YYUYLU1BMKiv2-_bXP7LLHmx4xL4iOdwEeVWJNlF710MfnJy_zp_5arPZhrEgCt0PUHEhJ-kNPcCDxux2KDPzz1RjF0qGHuHwfKEoV4JqnmnpC-nUXv6uvOUJqQilfJDYKkzKzZKqEN7h6gTPiuhH_C5anr9y1W06BKFBXC74A9d7X5JI3ibuOEKjBN_COP40LJc3RFg2rfSiO8s2ndqc1JK3H8mxKVrRcR28lEtwbF6keesYPpSsd3O6U8inbyw6r-w)\n",
    "\n",
    "Enquanto o socket tem \"interface\" uniforme, suas operações na pilha de rede dependem da família de protocolo de rede e do protocolo de transporte escolhidos durante a configuração.\n",
    "\n",
    "O [Linux suporta diversos tipos de protocolos de rede](https://github.com/torvalds/linux/blob/master/net/socket.c#L170-L217), incluindo:\n",
    "- PF_UNIX: comunicação entre processos da mesma máquina\n",
    "- PF_INET: redes IPv4\n",
    "- PF_INET6: redes IPv6\n",
    "- PF_BLUETOOTH: redes sem fio Bluetooth\n",
    "- PF_CAN: redes automotivas e industriais\n",
    "- PF_PACKET: \"sockets\" RAW (sem nenhum processamento de cabeçalhos). Utilizado para desenvolvimento de protocolos de mais baixo nível e monitoramento.\n",
    "\n",
    "No simulador ns-3, temos AF_INET/AF_INET6 (IPv4 e IPv6). Entraremos em mais detalhes após o bloco de código a seguir."
   ],
   "metadata": {
    "collapsed": false
   }
  },
  {
   "cell_type": "code",
   "execution_count": 2,
   "outputs": [
    {
     "data": {
      "text/plain": "True"
     },
     "execution_count": 2,
     "metadata": {},
     "output_type": "execute_result"
    }
   ],
   "source": [
    "ns.cppyy.cppdef(\"\"\"\n",
    "            namespace ns3\n",
    "            {\n",
    "                Callback<void,Ptr<Socket> > make_rx_callback(void(*func)(Ptr<Socket>))\n",
    "                {\n",
    "                    return MakeCallback(func);\n",
    "                }\n",
    "                EventImpl* pythonMakeEventSend(void (*f)(Ptr<Socket>, Ptr<Packet>, Address&), Ptr<Socket> socket, Ptr<Packet> packet, Address address)\n",
    "                {\n",
    "                    return MakeEvent(f, socket, packet, address);\n",
    "                }\n",
    "            }\n",
    "        \"\"\")"
   ],
   "metadata": {
    "collapsed": false
   }
  },
  {
   "cell_type": "markdown",
   "source": [
    "O bloco de código C++ é compilado em tempo de execução pela infraestrutura Cppyy utilizada na \"interface\" Python do simulador ns-3. São os únicos blocos de código que veremos em C++ neste exemplo, e são necessários devido a sua complexidade de mapeamento para o Cppyy.\n",
    "\n",
    "A primeira função cria um callback, que nada mais é que um ponteiro para função que só terá seus parâmetros prontos para execução no futuro, quando será chamada. Neste caso, é utilizada para chamar de volta a aplicação e entregar o socket, para que a aplicação receba os pacotes deste. O uso de callbacks é uma alternativa às notificações de processo por meio de interrupções, implementadas por sistemas operacionais.\n",
    "\n",
    "[![](https://mermaid.ink/img/pako:eNqlk8tOQjEQhl-l6RpX7rogMeDChZFwdHc2QztqQy_HaUs0yNO4MD4HL-ZwCsSAMRG6mrSd75_rUupoUCqZ8KVg0Di28ETg2yD4XHXOalh_rj-iIAR3MRw2NmX0IO46JNA2BnDvjfXFgYmkxAQNihT1HLN4GE8q5k8fZh7KKDFFjbM9KBaBRPE4ppAuD9z5RokRWTgKAlxm-Ab7k3ZalvcYMogQF-DZwj5Arh0RCHxFXXpWFUCXcK9bYzpH-TosOLcOdMz4O6fW5CTM__t0w9kTla7eMY4MYylqTCkKnqht6mdJ9T2d6sUInJuBngsTd91df9WCZ3bb1juYNsiB9EgerOHJXm4eWpmf0WMrFZsGaN7KNqz4H5Qcm7egpcpUcCBLZyDvtkCqR-D-DSQamyPd1lXpN2b1DcmLLgo?type=png)](https://mermaid.live/edit#pako:eNqlk8tOQjEQhl-l6RpX7rogMeDChZFwdHc2QztqQy_HaUs0yNO4MD4HL-ZwCsSAMRG6mrSd75_rUupoUCqZ8KVg0Di28ETg2yD4XHXOalh_rj-iIAR3MRw2NmX0IO46JNA2BnDvjfXFgYmkxAQNihT1HLN4GE8q5k8fZh7KKDFFjbM9KBaBRPE4ppAuD9z5RokRWTgKAlxm-Ab7k3ZalvcYMogQF-DZwj5Arh0RCHxFXXpWFUCXcK9bYzpH-TosOLcOdMz4O6fW5CTM__t0w9kTla7eMY4MYylqTCkKnqht6mdJ9T2d6sUInJuBngsTd91df9WCZ3bb1juYNsiB9EgerOHJXm4eWpmf0WMrFZsGaN7KNqz4H5Qcm7egpcpUcCBLZyDvtkCqR-D-DSQamyPd1lXpN2b1DcmLLgo)\n",
    "\n",
    "\n",
    "A segunda função cria um evento, que também é um ponteiro para função, mas já acompanhado de seus argumentos."
   ],
   "metadata": {
    "collapsed": false
   }
  },
  {
   "cell_type": "markdown",
   "source": [
    "No bloco a seguir, criamos nossa nova aplicação de servidor Echo.\n",
    "Esta aplicação funciona com seu par, cliente Echo, da seguinte maneira:\n",
    "\n",
    "[![](https://mermaid.ink/img/pako:eNp1kT1yAjEMha-iUU0u4IImoaQJrRvFflk82bU2XpuZDMPdI9gAmz9Xsqz3SXo-ctAIdjzhvSEHPCXpigw-k51edSShIFFoQtdy1PnhsU_IFbQJe31Yr3cohxS1XO6ONvmQhEYJWjHXI8c7cY6-aX4znhHwgi8IgaQzhlABDK5_I5ZTnQlYzGFKA6Z_FvipXPS-LcArHlAGSdHsOp7TnuseAzw7C6OUN88-n6xOWtXdRw7samlYcRuj1Ku17F6lnyyLmKqW7ez_5RtOn8CnhjY?type=png)](https://mermaid.live/edit#pako:eNp1kT1yAjEMha-iUU0u4IImoaQJrRvFflk82bU2XpuZDMPdI9gAmz9Xsqz3SXo-ctAIdjzhvSEHPCXpigw-k51edSShIFFoQtdy1PnhsU_IFbQJe31Yr3cohxS1XO6ONvmQhEYJWjHXI8c7cY6-aX4znhHwgi8IgaQzhlABDK5_I5ZTnQlYzGFKA6Z_FvipXPS-LcArHlAGSdHsOp7TnuseAzw7C6OUN88-n6xOWtXdRw7samlYcRuj1Ku17F6lnyyLmKqW7ez_5RtOn8CnhjY)"
   ],
   "metadata": {
    "collapsed": false
   }
  },
  {
   "cell_type": "code",
   "execution_count": 3,
   "outputs": [],
   "source": [
    "class EchoServer(ns.applications.Application):\n",
    "    LOGGING = True\n",
    "    ECHO_PORT = 1234 # Porta padrão da aplicação\n",
    "    socketToInstanceDict = {}\n",
    "\n",
    "    def __init__(self, node: ns.Node, port=ECHO_PORT):\n",
    "        super().__init__() # Chama o método construtor da Aplicação padrão\n",
    "        self.__python_owns__ = False  # Permita que o C++ destrua este objeto quando chamar Simulator::Destroy\n",
    "        self.port = port # Porta de escuta do servidor\n",
    "        # Cria um socket UDP para o servidor\n",
    "        self.m_socket = ns.network.Socket.CreateSocket(node,\n",
    "                                                       ns.core.TypeId.LookupByName(\"ns3::UdpSocketFactory\"))\n",
    "        # Toma controle da porta especificada e aceita conexões entrantes de qualquer IPv4\n",
    "        self.m_socket.Bind(ns.network.InetSocketAddress(ns.network.Ipv4Address.GetAny(), self.port).ConvertTo())\n",
    "        # Cria o callback para recebimento de mensagens com a função estática da classe EchoServer\n",
    "        # (Isto é um gato necessário para a aplicação funcionar corretamente pelo Python)\n",
    "        self.m_socket.SetRecvCallback(ns.make_rx_callback(EchoServer._Receive))\n",
    "        # Registra o socket como uma chave do dicionário, e associa a instância do servidor a esta chave\n",
    "        EchoServer.socketToInstanceDict[self.m_socket] = self\n",
    "\n",
    "    def __del__(self):\n",
    "        # Quando destruir esta aplicação de servidor, remova a entrada no dicionário da classe\n",
    "        del EchoServer.socketToInstanceDict[self.m_socket]\n",
    "\n",
    "    def Send(self, packet: ns.Packet, address: ns.Address) -> None:\n",
    "        # Função da instância da aplicação EchoServer que faz o envio do pacote 'packet' para o endereço 'address'.\n",
    "        self.m_socket.SendTo(packet, 0, address)\n",
    "        if EchoServer.LOGGING:\n",
    "            inetAddress = ns.InetSocketAddress.ConvertFrom(address)\n",
    "            print(\"At time +{s}s server sent {b} bytes from {ip} port {port}\"\n",
    "                  .format(s=ns.Simulator.Now().GetSeconds(),\n",
    "                          b=packet.__deref__().GetSize(),\n",
    "                          ip=inetAddress.GetIpv4(),\n",
    "                          port=inetAddress.GetPort()),\n",
    "                  file=sys.stderr,\n",
    "                  flush=True)\n",
    "\n",
    "    def Receive(self):\n",
    "        # Função da instância da aplicação EchoServer que faz o\n",
    "        # recebimento de um pacote 'packet' e também do endereço de seu remetente 'address'.\n",
    "        address = ns.Address()\n",
    "        packet = self.m_socket.RecvFrom(address)\n",
    "        if EchoServer.LOGGING:\n",
    "            inetAddress = ns.InetSocketAddress.ConvertFrom(address)\n",
    "            print(\"At time +{s}s server received {b} bytes from {ip} port {port}\"\n",
    "                  .format(s=ns.Simulator.Now().GetSeconds(),\n",
    "                          b=packet.__deref__().GetSize(),\n",
    "                          ip=inetAddress.GetIpv4(),\n",
    "                          port=inetAddress.GetPort()),\n",
    "                  file=sys.stderr,\n",
    "                  flush=True)\n",
    "        # Função cria evento para reenviar o pacote para seu remetente daqui a 1 segundo\n",
    "        # no tempo de simulação\n",
    "        event = ns.pythonMakeEventSend(EchoServer._Send, self.m_socket, packet, address)\n",
    "        ns.Simulator.Schedule(ns.Seconds(1), event)\n",
    "\n",
    "    @staticmethod\n",
    "    def _Send(socket: ns.Socket, packet: ns.Packet, address: ns.Address):\n",
    "        # Função estática identifica a instância do servidor pelo socket\n",
    "        # e a chama para enviar um pacote de volta para o seu remetente\n",
    "        instance = EchoServer.socketToInstanceDict[socket]\n",
    "        instance.Send(packet, address)\n",
    "        pass\n",
    "\n",
    "    @staticmethod\n",
    "    def _Receive(socket: ns.Socket) -> None:\n",
    "        # Função estática identifica a instância do servidor pelo socket\n",
    "        # e a chama para receber um pacote\n",
    "        instance = EchoServer.socketToInstanceDict[socket]\n",
    "        instance.Receive()\n",
    "        pass"
   ],
   "metadata": {
    "collapsed": false
   }
  },
  {
   "cell_type": "markdown",
   "source": [
    "Definida a aplicação, podemos instalá-la nos nós da rede do seguinte modo:\n",
    "\n",
    "[![](https://mermaid.ink/img/pako:eNqNkl9LwzAUxb_KJc-dNFVfghPqHKywlbLNB2l9yJrogmtS0lSQse_ujSnYOQRzIX_OOVz4hXsktRGSMPJmebuH5brSgKvrd0HI0Y2h9AfEL8H0Sygra6eMhoftj5oWRVw-iXZe783soKR2DDppP6TN2imNryhWEg1SYayb0uT6ZtR2u07zTejBwHItTAMt5kaRDO2sYDC0oyNrlc7iEreRVCye4xK3QZJaVNrXBSQdIOl_IGnpCTffGAwOqnNS_41DA47ngF-BDM0RTHIOQy9h6DlM0MNztkjzfL4sb2G1a7sIEmi6Iel_4W4yuR8iZ3mv-8YkIo20DVcCp-HoIxVxe9nIijC8Cm7fK1LpE-Z478zmU9eEOdvLiPSt4E4-Ko7f2RD2yg8dqlIoZ-wqjNf3lJ2-AHqBsDE?type=png)](https://mermaid.live/edit#pako:eNqNkl9LwzAUxb_KJc-dNFVfghPqHKywlbLNB2l9yJrogmtS0lSQse_ujSnYOQRzIX_OOVz4hXsktRGSMPJmebuH5brSgKvrd0HI0Y2h9AfEL8H0Sygra6eMhoftj5oWRVw-iXZe783soKR2DDppP6TN2imNryhWEg1SYayb0uT6ZtR2u07zTejBwHItTAMt5kaRDO2sYDC0oyNrlc7iEreRVCye4xK3QZJaVNrXBSQdIOl_IGnpCTffGAwOqnNS_41DA47ngF-BDM0RTHIOQy9h6DlM0MNztkjzfL4sb2G1a7sIEmi6Iel_4W4yuR8iZ3mv-8YkIo20DVcCp-HoIxVxe9nIijC8Cm7fK1LpE-Z478zmU9eEOdvLiPSt4E4-Ko7f2RD2yg8dqlIoZ-wqjNf3lJ2-AHqBsDE)"
   ],
   "metadata": {
    "collapsed": false
   }
  },
  {
   "cell_type": "code",
   "execution_count": 4,
   "metadata": {
    "collapsed": true
   },
   "outputs": [
    {
     "name": "stderr",
     "output_type": "stream",
     "text": [
      "At time +2s client sent 101 bytes to 10.1.1.2 port 1234\n",
      "At time +2.0022096s server received 101 bytes from 10.1.1.1 port 49153\n",
      "At time At time +3.0022096s server sent 101 bytes from 10.1.1.1 port 49153\n",
      "At time +3.0022096s server received 101 bytes from 10.1.1.1 port 49153\n",
      "+3s client sent 101 bytes to 10.1.1.2 port 1234\n",
      "At time +4.0022096s server sent 101 bytes from 10.1.1.1 port 49153\n",
      "At time +3.00442s client received 101 bytes from 10.1.1.2 port 1234\n",
      "At time +4s client sent 101 bytes to 10.1.1.2 port 1234\n",
      "At time +4.0022096s server received 101 bytes from 10.1.1.1 port 49153\n",
      "At time +5.0022096s server sent 101 bytes from 10.1.1.1 port 49153\n",
      "At time At time +5.0022096s server received 101 bytes from 10.1.1.1 port 49153\n",
      "+4.00442s client received 101 bytes from 10.1.1.2 port 1234\n",
      "At time +5s client sent 101 bytes to 10.1.1.2 port 1234\n",
      "At time +6.0022096s server sent 101 bytes from 10.1.1.1 port 49153\n",
      "At time +5.00442s client received 101 bytes from 10.1.At time +6.0022096s server received 101 bytes from 10.1.1.1 port 49153\n",
      "1.2 port 1234\n",
      "At time +6s client sent 101 bytes to 10.1.1.2 port 1234\n",
      "At time +7.0022096s server sent 101 bytes from 10.1.1.1 port 49153\n",
      "At time +6.00442s client received 101 bytes from 10.1.1.2 port 1234\n",
      "At time +7s client sent 101 bytes to 10.1.1.2 port 1234\n",
      "At time +7.0022096s server received 101 bytes from 10.1.1.1 port 49153\n",
      "At time +8.0022096s server sent 101 bytes from 10.1.1.1 port 49153\n",
      "At time +7.00442s client received 101 bytes from 10.1.1.2 port 1234\n",
      "At time +8s client sent 101 bytes to 10.1.1.2 port 1234\n",
      "At time +8.0022096s server received 101 bytes from 10.1.1.1 port 49153\n",
      "At time +9.0022096s server sent 101 bytes from 10.1.1.1 port 49153\n",
      "At time +8.00442s client received 101 bytes from 10.1.1.2 port 1234\n",
      "At time +9s client sent 101 bytes to 10.1.1.2 port 1234\n",
      "At time +9.0022096s server received 101 bytes from 10.1.1.1 port 49153\n",
      "At time +10.0022096s server sent 101 bytes from 10.1.1.1 port 49153At time \n",
      "+9.00442s client received 101 bytes from 10.1.1.2 port 1234\n"
     ]
    }
   ],
   "source": [
    "echoServer = EchoServer(nodes.Get(1))\n",
    "nodes.Get(1).AddApplication(echoServer)\n",
    "\n",
    "serverApps = ns.ApplicationContainer()\n",
    "serverApps.Add(echoServer)\n",
    "serverApps.Start(ns.core.Seconds(1.0))\n",
    "serverApps.Stop(ns.core.Seconds(10.0))\n",
    "\n",
    "address = interfaces.GetAddress(1).ConvertTo()\n",
    "\n",
    "ns.LogComponentEnable(\"UdpEchoClientApplication\", ns.core.LOG_LEVEL_INFO)\n",
    "echoClient = ns.applications.UdpEchoClientHelper(address, EchoServer.ECHO_PORT)\n",
    "echoClient.SetAttribute(\"MaxPackets\", ns.core.UintegerValue(10))\n",
    "echoClient.SetAttribute(\"Interval\", ns.core.TimeValue(ns.core.Seconds(1.0)))\n",
    "echoClient.SetAttribute(\"PacketSize\", ns.core.UintegerValue(101))\n",
    "\n",
    "clientApps = echoClient.Install(nodes.Get(0))\n",
    "clientApps.Start(ns.core.Seconds(2.0))\n",
    "clientApps.Stop(ns.core.Seconds(10.0))\n",
    "\n",
    "ns.Simulator.Run()\n",
    "ns.Simulator.Destroy()"
   ]
  }
 ],
 "metadata": {
  "kernelspec": {
   "display_name": "Python 3",
   "language": "python",
   "name": "python3"
  },
  "language_info": {
   "codemirror_mode": {
    "name": "ipython",
    "version": 2
   },
   "file_extension": ".py",
   "mimetype": "text/x-python",
   "name": "python",
   "nbconvert_exporter": "python",
   "pygments_lexer": "ipython2",
   "version": "2.7.6"
  }
 },
 "nbformat": 4,
 "nbformat_minor": 0
}
