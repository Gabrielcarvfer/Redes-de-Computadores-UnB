{
 "cells": [
  {
   "cell_type": "markdown",
   "metadata": {},
   "source": [
    "# Caso típico\n",
    "\n",
    "Alguns dos exemplos usarão o simulador de redes ns-3\n",
    "```\n",
    "apt install cmake g++ python3\n",
    "python3 -m pip install cppyy\n",
    "git clone https://gitlab.com/nsnam/ns-3-dev\n",
    "cd ns-3-dev/\n",
    "./ns3 configure --enable-python-bindings\n",
    "./ns3 build\n",
    "```"
   ]
  },
  {
   "cell_type": "markdown",
   "metadata": {},
   "source": [
    "Para confirmar que está tudo funcionando, agora adicione os diretórios contendo a interface (bindings) para Python e o diretório contendo as bibliotecas do ns-3 no PATH. Isto pode ser feito diretamente pelo Python."
   ]
  },
  {
   "cell_type": "code",
   "execution_count": 1,
   "metadata": {},
   "outputs": [],
   "source": [
    "import sys\n",
    "sys.path.append(\"./ns-3-dev/build/bindings/python\")\n",
    "sys.path.append(\"./ns-3-dev/build/lib\")"
   ]
  },
  {
   "cell_type": "markdown",
   "metadata": {},
   "source": [
    "Agora que a interface Python do ns-3 já pode ser importada."
   ]
  },
  {
   "cell_type": "code",
   "execution_count": 2,
   "metadata": {},
   "outputs": [],
   "source": [
    "from ns import ns"
   ]
  },
  {
   "cell_type": "markdown",
   "metadata": {},
   "source": [
    "Criemos então dois nós (dispositivos) em uma rede.\n",
    "\n",
    "[![](https://mermaid.ink/img/pako:eNoljbEOgzAQQ38l8sxA12xUjFWHMnIMJ3IUVBJQSIYK8e8cwpOfZcs7-sUJLL6R19G8PhSMqmrfGpuyMzc_b350F6KAl-h5crrbr4SQRvFCsGodxx-BwqE9zmlp_qGHTTFLgbw6TlJPrHceduB5k-METzMp0Q?type=png)](https://mermaid.live/edit#pako:eNoljbEOgzAQQ38l8sxA12xUjFWHMnIMJ3IUVBJQSIYK8e8cwpOfZcs7-sUJLL6R19G8PhSMqmrfGpuyMzc_b350F6KAl-h5crrbr4SQRvFCsGodxx-BwqE9zmlp_qGHTTFLgbw6TlJPrHceduB5k-METzMp0Q)"
   ]
  },
  {
   "cell_type": "code",
   "execution_count": 3,
   "metadata": {},
   "outputs": [],
   "source": [
    "nodes = ns.network.NodeContainer()\n",
    "nodes.Create(2)"
   ]
  },
  {
   "cell_type": "markdown",
   "metadata": {},
   "source": [
    "Em seguida, liguemos estes dois dispositivos através de uma conexão ponto-a-ponto.\n",
    "Note que podemos alterar certas propriedades desta conexão, como o atraso e vazão.\n",
    "\n",
    "[![](https://mermaid.ink/img/pako:eNqNkE0LwjAMhv9KyXnCJngZIvgFHtwQ9SKrh7pGLdpudN1BxP9uagcqXkwhad889G1zh7KSCCmcrKjPbLnmhlE07SEIOXVjVvjC4n1o-pDKYulUZdhk-1az8TQuKH2Aq8UuLih1EhrJjV8_Lknnkvzjkvy6JN8uQQ_H6WKc5_NlMWDZoW4i1me66Uj_vGGvN-qQL97r_mKIQKPVQkma090jHNwZNXJIaSuFvXDg5kGcaF21uZkSUmdbjKCtpXA4U4L-qSE9imtDKkrlKpuFwb_m_3gCiklw2Q?type=png)](https://mermaid.live/edit#pako:eNqNkE0LwjAMhv9KyXnCJngZIvgFHtwQ9SKrh7pGLdpudN1BxP9uagcqXkwhad889G1zh7KSCCmcrKjPbLnmhlE07SEIOXVjVvjC4n1o-pDKYulUZdhk-1az8TQuKH2Aq8UuLih1EhrJjV8_Lknnkvzjkvy6JN8uQQ_H6WKc5_NlMWDZoW4i1me66Uj_vGGvN-qQL97r_mKIQKPVQkma090jHNwZNXJIaSuFvXDg5kGcaF21uZkSUmdbjKCtpXA4U4L-qSE9imtDKkrlKpuFwb_m_3gCiklw2Q)"
   ]
  },
  {
   "cell_type": "code",
   "execution_count": 4,
   "metadata": {},
   "outputs": [],
   "source": [
    "pointToPoint = ns.point_to_point.PointToPointHelper()\n",
    "pointToPoint.SetDeviceAttribute(\"DataRate\", ns.core.StringValue(\"5Mbps\"))\n",
    "pointToPoint.SetChannelAttribute(\"Delay\", ns.core.StringValue(\"2ms\"))\n",
    "\n",
    "devices = pointToPoint.Install(nodes)"
   ]
  },
  {
   "cell_type": "markdown",
   "metadata": {},
   "source": [
    "Agora os dispositivos estão fisicamente conectados por meio desta conexão ponto-a-ponto.\n",
    "Temos, neste ponto, as duas camadas inferiores da pilha de rede (PHY e MAC) mais o canal que as conecta.\n",
    "\n",
    "Porém, estes dispositivos não podem se comunicar, já que não tem uma pilha de rede (e.g. IP).\n",
    "Precisamos, portanto, instalar a pilha de rede nos dispositivos.\n",
    "\n",
    "[![](https://mermaid.ink/img/pako:eNqNkVFrwyAQx7-K3HMKOthLKIOuK7TQhLDtZegebLytsmqCMQ-j9LvvnIG15GUnnPq7P_7VO0PbGYQSPoPuj2z_rDyjGMZDBjVVOZNpYvw9F1MYG7CNtvPs8fWP7houd82VrFqtuaR0hZrtG5eUJoTeKJ_GzFZMtuIftmJmK-a24tY287xdb1d1vdnLe1Yd-qFgd8wNkzLdd7lYPEySG33i6WAowGFw2hr6yXOSKIhHdKigpKXR4UuB8hfS6TF2L9--hTKGEQsYe6MjPllND3dQfujTQBSNjV2ocmt-O3T5AQa2eKI?type=png)](https://mermaid.live/edit#pako:eNqNkVFrwyAQx7-K3HMKOthLKIOuK7TQhLDtZegebLytsmqCMQ-j9LvvnIG15GUnnPq7P_7VO0PbGYQSPoPuj2z_rDyjGMZDBjVVOZNpYvw9F1MYG7CNtvPs8fWP7houd82VrFqtuaR0hZrtG5eUJoTeKJ_GzFZMtuIftmJmK-a24tY287xdb1d1vdnLe1Yd-qFgd8wNkzLdd7lYPEySG33i6WAowGFw2hr6yXOSKIhHdKigpKXR4UuB8hfS6TF2L9--hTKGEQsYe6MjPllND3dQfujTQBSNjV2ocmt-O3T5AQa2eKI)"
   ]
  },
  {
   "cell_type": "code",
   "execution_count": 5,
   "metadata": {},
   "outputs": [],
   "source": [
    "stack = ns.internet.InternetStackHelper()\n",
    "stack.Install(nodes)"
   ]
  },
  {
   "cell_type": "markdown",
   "metadata": {},
   "source": [
    "Agora temos as 3 camadas básicas da pilha TCP/IP (PHY, MAC, IP).\n",
    "Precisamos agora configurar os endereços IP destes dispositivos, de maneira a colocá-los em uma mesma sub-rede.\n",
    "\n",
    "[![](https://mermaid.ink/img/pako:eNqNkVFrwyAQx7-K3HM6tNAXGYOuHbTQhLDtZegebLy1smmCMQ-j9LtPZ2AJfZkHp_7vr_y4u0DTagQOJ6-6Mzk8S0fi6odjFqpYpUSkjdD3XExLG49NMK0jj69_6r6mYl9zwugdSzF5UK43VMQ0kerdGxUxjRI6LV2KGwA2ArB_ALApwHIOwG4B2Bwg6_m62a2r6ukgVqQ8dn1BlsT2ozOR3y8WD6Nl5k96-hgKsOitMjp295IsEsIZLUrg8aiV_5Qg3TX61BDal2_XAA9-wAKGTquAW6NiCyzwD_XVRxW1Ca0v87h-p3b9AWzrfFM?type=png)](https://mermaid.live/edit#pako:eNqNkVFrwyAQx7-K3HM6tNAXGYOuHbTQhLDtZegebLy1smmCMQ-j9LtPZ2AJfZkHp_7vr_y4u0DTagQOJ6-6Mzk8S0fi6odjFqpYpUSkjdD3XExLG49NMK0jj69_6r6mYl9zwugdSzF5UK43VMQ0kerdGxUxjRI6LV2KGwA2ArB_ALApwHIOwG4B2Bwg6_m62a2r6ukgVqQ8dn1BlsT2ozOR3y8WD6Nl5k96-hgKsOitMjp295IsEsIZLUrg8aiV_5Qg3TX61BDal2_XAA9-wAKGTquAW6NiCyzwD_XVRxW1Ca0v87h-p3b9AWzrfFM)"
   ]
  },
  {
   "cell_type": "code",
   "execution_count": 6,
   "metadata": {},
   "outputs": [
    {
     "name": "stdout",
     "output_type": "stream",
     "text": [
      "<cppyy.gbl.ns3.Ipv4InterfaceContainer object at 0x55eeb18592a0>\n"
     ]
    }
   ],
   "source": [
    "address = ns.internet.Ipv4AddressHelper()\n",
    "address.SetBase(ns.network.Ipv4Address(\"10.1.1.0\"),\n",
    "                ns.network.Ipv4Mask(\"255.255.255.0\"))\n",
    "\n",
    "interfaces = address.Assign(devices)\n",
    "print(interfaces)"
   ]
  },
  {
   "cell_type": "markdown",
   "metadata": {},
   "source": [
    "Com isto feito, já podemos trocar pacotes entre estes dispositivos.\n",
    "\n",
    "Trocaremos pacotes instalando uma aplicação de Eco (Echo), onde um cliente manda uma mensagem periodicamente para um servidor Echo, que responde enviando para o cliente a mesma mensagem recebida pelo servidor.\n",
    "\n",
    "Comecemos pela configuração do servidor, que escutará por conexões na porta 1234.\n",
    "O servidor será instalado no segundo nó (`nodes.Get(1)`).\n",
    "Sua execução se iniciará ao primeiro segundo de simulação e terminará ao décimo segundo da simulação.\n",
    "\n",
    "[![](https://mermaid.ink/img/pako:eNqFkl9LwzAUxb_KJbC3TpqqL0GFOgcrbKVs80HaPWRNdME1LWkqyNh392ap2DnBXMifcw4XfuEeSFkLSRh5M7zZwXxZaMDVdlsvpOiGkLsDwo033RLKyNKqWsPj-kcdjeIsC_Nn0UzLXT3ZK6ktg1aaD2mS5p6GVxQrCnopq429p9H1zWbYYr2M05XvwsBwLeoKGkwOQgnaScagb0gH1iKehDluAymbvYQ5br0ktSi0qwtQ2oPSf0ERk35jrk4sDPaqtVL_xeSJqCdyKPArkKA54InOeeglDz3n8bp_TmZxmk7n-S0stk0bQARV2yfdR9yNxw995CzvdNeYBKSSpuJK4FAcXKQgdicrWRCGV8HNe0EKfcQc72y9-tQlYdZ0MiBdI7iVT4rjj1aEvfJ9i6oUytZm4afsNGzHL5p_se4?type=png)](https://mermaid.live/edit#pako:eNqFkl9LwzAUxb_KJbC3TpqqL0GFOgcrbKVs80HaPWRNdME1LWkqyNh392ap2DnBXMifcw4XfuEeSFkLSRh5M7zZwXxZaMDVdlsvpOiGkLsDwo033RLKyNKqWsPj-kcdjeIsC_Nn0UzLXT3ZK6ktg1aaD2mS5p6GVxQrCnopq429p9H1zWbYYr2M05XvwsBwLeoKGkwOQgnaScagb0gH1iKehDluAymbvYQ5br0ktSi0qwtQ2oPSf0ERk35jrk4sDPaqtVL_xeSJqCdyKPArkKA54InOeeglDz3n8bp_TmZxmk7n-S0stk0bQARV2yfdR9yNxw995CzvdNeYBKSSpuJK4FAcXKQgdicrWRCGV8HNe0EKfcQc72y9-tQlYdZ0MiBdI7iVT4rjj1aEvfJ9i6oUytZm4afsNGzHL5p_se4)"
   ]
  },
  {
   "cell_type": "code",
   "execution_count": 7,
   "metadata": {},
   "outputs": [
    {
     "name": "stdout",
     "output_type": "stream",
     "text": [
      "Servidores: 1\n"
     ]
    }
   ],
   "source": [
    "ECHO_PORT = 1234\n",
    "ns.LogComponentEnable(\"UdpEchoServerApplication\", ns.core.LOG_LEVEL_INFO)\n",
    "echoServerHelper = ns.UdpEchoServerHelper(ECHO_PORT)\n",
    "serverApps = echoServerHelper.Install(nodes.Get(1))\n",
    "serverApps.Start(ns.core.Seconds(1.0))\n",
    "serverApps.Stop(ns.core.Seconds(10.0))\n",
    "print(f\"Servidores: {serverApps.GetN()}\")"
   ]
  },
  {
   "cell_type": "markdown",
   "metadata": {},
   "source": [
    "Configuremos agora o cliente.\n",
    "O cliente se conectará ao servidor (`nodes.Get(1)`) através do seu endereço de IP."
   ]
  },
  {
   "cell_type": "code",
   "execution_count": 8,
   "metadata": {},
   "outputs": [
    {
     "name": "stdout",
     "output_type": "stream",
     "text": [
      "Endereço do servidor 10.1.1.2\n"
     ]
    }
   ],
   "source": [
    "address = interfaces.GetAddress(1).ConvertTo()\n",
    "print(f\"Endereço do servidor {interfaces.GetAddress(1)}\")"
   ]
  },
  {
   "cell_type": "markdown",
   "metadata": {},
   "source": [
    "Além do IP, precisamos também da mesma porta `ECHO_PORT=1234`.\n",
    "O cliente enviará no máximo 10 pacotes. Será enviado um pacote de 101 bytes a cada 1 segundo.\n",
    "\n",
    "[![](https://mermaid.ink/img/pako:eNqNkl9LwzAUxb_KJc-dNFVfghPqHKywlrLNB2l9yJrogm1S0lSQse9uslRsHYK5kD_nHC78wj2iSjGOCHrTtD3AelNKsKvr917IrBtC4Q4IX7zpFhOaV0YoCQ-7HzXO87B4Yu2yOqhFLbg0BDquP7hO2jkOr7CtKBikXGkzx9H1zajtbhNnW9-DgKaSqQZamxtFEmsnOYGhHR5ZabwIC7uNpHz1HBZ2GyQuWSldXUDiARL_BxJ_Q27PJARq0Rku_ybCnsihwK9AYs0RTzTlwZc8eMrjdf9crOIsW66LW0j3bRdABE03JN1H3M1m90Nkkne6a4wC1HDdUMHsQBxdpETmwBteImKvjOr3EpXyZHO0N2r7KStEjO55gPqWUcMfBbU_2iDySuvOqpwJo3TqJ-w8aKcv7W-xWg?type=png)](https://mermaid.live/edit#pako:eNqNkl9LwzAUxb_KJc-dNFVfghPqHKywlrLNB2l9yJrogm1S0lSQse9uslRsHYK5kD_nHC78wj2iSjGOCHrTtD3AelNKsKvr917IrBtC4Q4IX7zpFhOaV0YoCQ-7HzXO87B4Yu2yOqhFLbg0BDquP7hO2jkOr7CtKBikXGkzx9H1zajtbhNnW9-DgKaSqQZamxtFEmsnOYGhHR5ZabwIC7uNpHz1HBZ2GyQuWSldXUDiARL_BxJ_Q27PJARq0Rku_ybCnsihwK9AYs0RTzTlwZc8eMrjdf9crOIsW66LW0j3bRdABE03JN1H3M1m90Nkkne6a4wC1HDdUMHsQBxdpETmwBteImKvjOr3EpXyZHO0N2r7KStEjO55gPqWUcMfBbU_2iDySuvOqpwJo3TqJ-w8aKcv7W-xWg)"
   ]
  },
  {
   "cell_type": "code",
   "execution_count": 9,
   "metadata": {},
   "outputs": [],
   "source": [
    "ns.LogComponentEnable(\"UdpEchoClientApplication\", ns.core.LOG_LEVEL_INFO)\n",
    "echoClient = ns.applications.UdpEchoClientHelper(address, ECHO_PORT)\n",
    "echoClient.SetAttribute(\"MaxPackets\", ns.core.UintegerValue(10))\n",
    "echoClient.SetAttribute(\"Interval\", ns.core.TimeValue(ns.core.Seconds(1.0)))\n",
    "echoClient.SetAttribute(\"PacketSize\", ns.core.UintegerValue(101))"
   ]
  },
  {
   "cell_type": "markdown",
   "metadata": {},
   "source": [
    "O cliente será instalado no primeiro nó (`nodes.Get(0)`).\n",
    "Sua execução se iniciará ao segundo de simulação e terminará ao décimo segundo da simulação."
   ]
  },
  {
   "cell_type": "code",
   "execution_count": 10,
   "metadata": {},
   "outputs": [
    {
     "name": "stdout",
     "output_type": "stream",
     "text": [
      "Clientes: 1\n",
      "\tMaxPackets do cliente: 10\n",
      "\tInterval do cliente: +1e+09ns\n",
      "\tPacketSize do cliente: 101\n"
     ]
    }
   ],
   "source": [
    "clientApps = echoClient.Install(nodes.Get(0))\n",
    "clientApps.Start(ns.core.Seconds(2.0))\n",
    "clientApps.Stop(ns.core.Seconds(10.0))\n",
    "print(f\"Clientes: {clientApps.GetN()}\")\n",
    "\n",
    "atributos = {\n",
    "    \"MaxPackets\": ns.UintegerValue,\n",
    "    \"Interval\": ns.TimeValue,\n",
    "    \"PacketSize\": ns.UintegerValue,\n",
    "}\n",
    "for atributo in [\"MaxPackets\", \"Interval\", \"PacketSize\"]:\n",
    "    valorAtributo = atributos[atributo]()\n",
    "    clientApps.Get(0).__deref__().GetAttribute(atributo, valorAtributo)\n",
    "    print(f\"\\t{atributo} do cliente: {valorAtributo.Get()}\")"
   ]
  },
  {
   "cell_type": "markdown",
   "metadata": {},
   "source": [
    "Podemos configurar o limite de tempo da simulação, e em seguida executá-la."
   ]
  },
  {
   "cell_type": "code",
   "execution_count": 11,
   "metadata": {},
   "outputs": [
    {
     "name": "stderr",
     "output_type": "stream",
     "text": [
      "At time +2s client sent 101 bytes to 10.1.1.2 port 1234\n",
      "At time +2.00221s server received 101 bytes from 10.1.1.1 port 49153\n",
      "At time +2.00221s server sent 101 bytes to 10.1.1.1 port 49153\n",
      "At time +2.00442s client received 101 bytes from 10.1.1.2 port 1234\n",
      "At time +3s client sent 101 bytes to 10.1.1.2 port 1234\n",
      "At time +3.00221s server received 101 bytes from 10.1.1.1 port 49153\n",
      "At time +3.00221s server sent 101 bytes to 10.1.1.1 port 49153\n",
      "At time +3.00442s client received 101 bytes from 10.1.1.2 port 1234\n",
      "At time +4s client sent 101 bytes to 10.1.1.2 port 1234\n",
      "At time +4.00221s server received 101 bytes from 10.1.1.1 port 49153\n",
      "At time +4.00221s server sent 101 bytes to 10.1.1.1 port 49153\n",
      "At time +4.00442s client received 101 bytes from 10.1.1.2 port 1234\n",
      "At time +5s client sent 101 bytes to 10.1.1.2 port 1234\n",
      "At time +5.00221s server received 101 bytes from 10.1.1.1 port 49153\n",
      "At time +5.00221s server sent 101 bytes to 10.1.1.1 port 49153\n",
      "At time +5.00442s client received 101 bytes from 10.1.1.2 port 1234\n",
      "At time +6s client sent 101 bytes to 10.1.1.2 port 1234\n",
      "At time +6.00221s server received 101 bytes from 10.1.1.1 port 49153\n",
      "At time +6.00221s server sent 101 bytes to 10.1.1.1 port 49153\n",
      "At time +6.00442s client received 101 bytes from 10.1.1.2 port 1234\n",
      "At time +7s client sent 101 bytes to 10.1.1.2 port 1234\n",
      "At time +7.00221s server received 101 bytes from 10.1.1.1 port 49153\n",
      "At time +7.00221s server sent 101 bytes to 10.1.1.1 port 49153\n",
      "At time +7.00442s client received 101 bytes from 10.1.1.2 port 1234\n",
      "At time +8s client sent 101 bytes to 10.1.1.2 port 1234\n",
      "At time +8.00221s server received 101 bytes from 10.1.1.1 port 49153\n",
      "At time +8.00221s server sent 101 bytes to 10.1.1.1 port 49153\n",
      "At time +8.00442s client received 101 bytes from 10.1.1.2 port 1234\n",
      "At time +9s client sent 101 bytes to 10.1.1.2 port 1234\n",
      "At time +9.00221s server received 101 bytes from 10.1.1.1 port 49153\n",
      "At time +9.00221s server sent 101 bytes to 10.1.1.1 port 49153\n",
      "At time +9.00442s client received 101 bytes from 10.1.1.2 port 1234\n"
     ]
    }
   ],
   "source": [
    "ns.Simulator.Stop(ns.Seconds(11))\n",
    "ns.Simulator.Run()"
   ]
  },
  {
   "cell_type": "markdown",
   "metadata": {},
   "source": [
    "Existem alguns casos onde pode ser interessante coletar o estado em que o simulador parou.\n",
    "Neste caso, faça isto antes de chamar a rotina de limpeza do estado do simulador (`Simulator.Destroy()`)."
   ]
  },
  {
   "cell_type": "code",
   "execution_count": 12,
   "metadata": {},
   "outputs": [],
   "source": [
    "ns.Simulator.Destroy()"
   ]
  },
  {
   "cell_type": "markdown",
   "metadata": {},
   "source": [
    "# Em caso de bugs\n",
    "\n",
    "Caso encontre problemas utilizando o ns-3 pelo notebook Jupyter, transforme o notebook em um script Python com mesmo nome (mudando apenas a extensão).\n",
    "```\n",
    "jupyter nbconvert --to python nome_notebook.ipynb\n",
    "```\n",
    "Em seguida, habilite checagem de memória em tempo de execução:\n",
    "```\n",
    "cd ns-3-dev/\n",
    "./ns3 configure --enable-sanitizers\n",
    "./ns3 build\n",
    "```\n",
    "Se tiver habilitado os sanitizers, precisará iniciar o script com LD_PRELOAD com valor do address sanitizer.\n",
    "\n",
    "```\n",
    "LD_PRELOAD=`gcc --print-file-name=libasan.so` ./ns3 run nome_notebook.py\n",
    "```\n",
    "ou\n",
    "```\n",
    "LD_PRELOAD=`clang -print-file-name=libclang_rt.asan-x86_64.so` ./ns3 run nome_notebook.py\n",
    "```"
   ]
  }
 ],
 "metadata": {
  "kernelspec": {
   "display_name": "Python 3 (ipykernel)",
   "language": "python",
   "name": "python3"
  },
  "language_info": {
   "codemirror_mode": {
    "name": "ipython",
    "version": 3
   },
   "file_extension": ".py",
   "mimetype": "text/x-python",
   "name": "python",
   "nbconvert_exporter": "python",
   "pygments_lexer": "ipython3",
   "version": "3.10.6"
  }
 },
 "nbformat": 4,
 "nbformat_minor": 1
}
